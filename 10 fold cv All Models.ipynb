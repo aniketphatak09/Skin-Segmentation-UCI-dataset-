{
 "cells": [
  {
   "cell_type": "markdown",
   "metadata": {},
   "source": [
    "# Skin Segmentation"
   ]
  },
  {
   "cell_type": "code",
   "execution_count": 1,
   "metadata": {},
   "outputs": [],
   "source": [
    "%matplotlib inline\n",
    "import pandas as pd\n",
    "from matplotlib import pyplot as plt\n",
    "from matplotlib import patches as mpatches\n",
    "import numpy as np\n",
    "import scipy as sp\n"
   ]
  },
  {
   "cell_type": "code",
   "execution_count": 2,
   "metadata": {},
   "outputs": [
    {
     "name": "stdout",
     "output_type": "stream",
     "text": [
      "Last 10 rows of Data: \n",
      "[[164 163 113   2]\n",
      " [184 183 139   2]\n",
      " [ 53  53  17   2]\n",
      " [166 167 128   2]\n",
      " [187 185 144   2]\n",
      " [200 198 163   2]\n",
      " [154 184 239   1]\n",
      " [212 216 221   2]\n",
      " [136 136  88   2]\n",
      " [167 164 113   2]]\n",
      "(245057, 4)\n"
     ]
    },
    {
     "data": {
      "text/html": [
       "<div>\n",
       "<style scoped>\n",
       "    .dataframe tbody tr th:only-of-type {\n",
       "        vertical-align: middle;\n",
       "    }\n",
       "\n",
       "    .dataframe tbody tr th {\n",
       "        vertical-align: top;\n",
       "    }\n",
       "\n",
       "    .dataframe thead th {\n",
       "        text-align: right;\n",
       "    }\n",
       "</style>\n",
       "<table border=\"1\" class=\"dataframe\">\n",
       "  <thead>\n",
       "    <tr style=\"text-align: right;\">\n",
       "      <th></th>\n",
       "      <th>0</th>\n",
       "      <th>1</th>\n",
       "      <th>2</th>\n",
       "      <th>3</th>\n",
       "    </tr>\n",
       "  </thead>\n",
       "  <tbody>\n",
       "    <tr>\n",
       "      <td>15</td>\n",
       "      <td>15</td>\n",
       "      <td>11</td>\n",
       "      <td>0</td>\n",
       "      <td>2</td>\n",
       "    </tr>\n",
       "    <tr>\n",
       "      <td>173</td>\n",
       "      <td>173</td>\n",
       "      <td>176</td>\n",
       "      <td>137</td>\n",
       "      <td>2</td>\n",
       "    </tr>\n",
       "    <tr>\n",
       "      <td>147</td>\n",
       "      <td>147</td>\n",
       "      <td>187</td>\n",
       "      <td>252</td>\n",
       "      <td>1</td>\n",
       "    </tr>\n",
       "    <tr>\n",
       "      <td>165</td>\n",
       "      <td>165</td>\n",
       "      <td>179</td>\n",
       "      <td>228</td>\n",
       "      <td>1</td>\n",
       "    </tr>\n",
       "    <tr>\n",
       "      <td>236</td>\n",
       "      <td>236</td>\n",
       "      <td>241</td>\n",
       "      <td>244</td>\n",
       "      <td>2</td>\n",
       "    </tr>\n",
       "    <tr>\n",
       "      <td>...</td>\n",
       "      <td>...</td>\n",
       "      <td>...</td>\n",
       "      <td>...</td>\n",
       "      <td>...</td>\n",
       "    </tr>\n",
       "    <tr>\n",
       "      <td>200</td>\n",
       "      <td>200</td>\n",
       "      <td>198</td>\n",
       "      <td>163</td>\n",
       "      <td>2</td>\n",
       "    </tr>\n",
       "    <tr>\n",
       "      <td>154</td>\n",
       "      <td>154</td>\n",
       "      <td>184</td>\n",
       "      <td>239</td>\n",
       "      <td>1</td>\n",
       "    </tr>\n",
       "    <tr>\n",
       "      <td>212</td>\n",
       "      <td>212</td>\n",
       "      <td>216</td>\n",
       "      <td>221</td>\n",
       "      <td>2</td>\n",
       "    </tr>\n",
       "    <tr>\n",
       "      <td>136</td>\n",
       "      <td>136</td>\n",
       "      <td>136</td>\n",
       "      <td>88</td>\n",
       "      <td>2</td>\n",
       "    </tr>\n",
       "    <tr>\n",
       "      <td>167</td>\n",
       "      <td>167</td>\n",
       "      <td>164</td>\n",
       "      <td>113</td>\n",
       "      <td>2</td>\n",
       "    </tr>\n",
       "  </tbody>\n",
       "</table>\n",
       "<p>245057 rows × 4 columns</p>\n",
       "</div>"
      ],
      "text/plain": [
       "       0    1    2  3\n",
       "15    15   11    0  2\n",
       "173  173  176  137  2\n",
       "147  147  187  252  1\n",
       "165  165  179  228  1\n",
       "236  236  241  244  2\n",
       "..   ...  ...  ... ..\n",
       "200  200  198  163  2\n",
       "154  154  184  239  1\n",
       "212  212  216  221  2\n",
       "136  136  136   88  2\n",
       "167  167  164  113  2\n",
       "\n",
       "[245057 rows x 4 columns]"
      ]
     },
     "execution_count": 2,
     "metadata": {},
     "output_type": "execute_result"
    }
   ],
   "source": [
    "#data = sp.genfromtxt(\"skin_color_binary.dat\", delimiter = \"\\t\")\n",
    "data = np.genfromtxt('/Users/x/Desktop/::code/python/SKIN/Skin_NonSkin.txt', dtype=np.int32)\n",
    "sp.random.shuffle(data)\n",
    "data = np.array(data)\n",
    "df = pd.DataFrame(data,index=data[:,0])\n",
    "#sp.random.shuffle(df)\n",
    "print(\"Last 10 rows of Data: \\n\" + str(data[-10:]))\n",
    "print(data.shape)\n",
    "df"
   ]
  },
  {
   "cell_type": "markdown",
   "metadata": {},
   "source": [
    "# ------------Visualize-----------"
   ]
  },
  {
   "cell_type": "markdown",
   "metadata": {},
   "source": [
    "# Displaying the first 5 columns"
   ]
  },
  {
   "cell_type": "code",
   "execution_count": 3,
   "metadata": {},
   "outputs": [
    {
     "data": {
      "text/html": [
       "<div>\n",
       "<style scoped>\n",
       "    .dataframe tbody tr th:only-of-type {\n",
       "        vertical-align: middle;\n",
       "    }\n",
       "\n",
       "    .dataframe tbody tr th {\n",
       "        vertical-align: top;\n",
       "    }\n",
       "\n",
       "    .dataframe thead th {\n",
       "        text-align: right;\n",
       "    }\n",
       "</style>\n",
       "<table border=\"1\" class=\"dataframe\">\n",
       "  <thead>\n",
       "    <tr style=\"text-align: right;\">\n",
       "      <th></th>\n",
       "      <th>0</th>\n",
       "      <th>1</th>\n",
       "      <th>2</th>\n",
       "      <th>3</th>\n",
       "    </tr>\n",
       "  </thead>\n",
       "  <tbody>\n",
       "    <tr>\n",
       "      <td>15</td>\n",
       "      <td>15</td>\n",
       "      <td>11</td>\n",
       "      <td>0</td>\n",
       "      <td>2</td>\n",
       "    </tr>\n",
       "    <tr>\n",
       "      <td>173</td>\n",
       "      <td>173</td>\n",
       "      <td>176</td>\n",
       "      <td>137</td>\n",
       "      <td>2</td>\n",
       "    </tr>\n",
       "    <tr>\n",
       "      <td>147</td>\n",
       "      <td>147</td>\n",
       "      <td>187</td>\n",
       "      <td>252</td>\n",
       "      <td>1</td>\n",
       "    </tr>\n",
       "    <tr>\n",
       "      <td>165</td>\n",
       "      <td>165</td>\n",
       "      <td>179</td>\n",
       "      <td>228</td>\n",
       "      <td>1</td>\n",
       "    </tr>\n",
       "    <tr>\n",
       "      <td>236</td>\n",
       "      <td>236</td>\n",
       "      <td>241</td>\n",
       "      <td>244</td>\n",
       "      <td>2</td>\n",
       "    </tr>\n",
       "    <tr>\n",
       "      <td>149</td>\n",
       "      <td>149</td>\n",
       "      <td>190</td>\n",
       "      <td>253</td>\n",
       "      <td>1</td>\n",
       "    </tr>\n",
       "    <tr>\n",
       "      <td>107</td>\n",
       "      <td>107</td>\n",
       "      <td>119</td>\n",
       "      <td>237</td>\n",
       "      <td>2</td>\n",
       "    </tr>\n",
       "    <tr>\n",
       "      <td>164</td>\n",
       "      <td>164</td>\n",
       "      <td>164</td>\n",
       "      <td>116</td>\n",
       "      <td>2</td>\n",
       "    </tr>\n",
       "    <tr>\n",
       "      <td>57</td>\n",
       "      <td>57</td>\n",
       "      <td>59</td>\n",
       "      <td>23</td>\n",
       "      <td>2</td>\n",
       "    </tr>\n",
       "    <tr>\n",
       "      <td>66</td>\n",
       "      <td>66</td>\n",
       "      <td>67</td>\n",
       "      <td>25</td>\n",
       "      <td>2</td>\n",
       "    </tr>\n",
       "    <tr>\n",
       "      <td>62</td>\n",
       "      <td>62</td>\n",
       "      <td>86</td>\n",
       "      <td>52</td>\n",
       "      <td>2</td>\n",
       "    </tr>\n",
       "    <tr>\n",
       "      <td>123</td>\n",
       "      <td>123</td>\n",
       "      <td>121</td>\n",
       "      <td>90</td>\n",
       "      <td>2</td>\n",
       "    </tr>\n",
       "    <tr>\n",
       "      <td>15</td>\n",
       "      <td>15</td>\n",
       "      <td>14</td>\n",
       "      <td>0</td>\n",
       "      <td>2</td>\n",
       "    </tr>\n",
       "    <tr>\n",
       "      <td>42</td>\n",
       "      <td>42</td>\n",
       "      <td>43</td>\n",
       "      <td>23</td>\n",
       "      <td>2</td>\n",
       "    </tr>\n",
       "    <tr>\n",
       "      <td>0</td>\n",
       "      <td>0</td>\n",
       "      <td>1</td>\n",
       "      <td>0</td>\n",
       "      <td>2</td>\n",
       "    </tr>\n",
       "    <tr>\n",
       "      <td>23</td>\n",
       "      <td>23</td>\n",
       "      <td>88</td>\n",
       "      <td>63</td>\n",
       "      <td>2</td>\n",
       "    </tr>\n",
       "    <tr>\n",
       "      <td>144</td>\n",
       "      <td>144</td>\n",
       "      <td>141</td>\n",
       "      <td>90</td>\n",
       "      <td>2</td>\n",
       "    </tr>\n",
       "    <tr>\n",
       "      <td>57</td>\n",
       "      <td>57</td>\n",
       "      <td>59</td>\n",
       "      <td>23</td>\n",
       "      <td>2</td>\n",
       "    </tr>\n",
       "    <tr>\n",
       "      <td>154</td>\n",
       "      <td>154</td>\n",
       "      <td>193</td>\n",
       "      <td>255</td>\n",
       "      <td>1</td>\n",
       "    </tr>\n",
       "    <tr>\n",
       "      <td>248</td>\n",
       "      <td>248</td>\n",
       "      <td>250</td>\n",
       "      <td>250</td>\n",
       "      <td>2</td>\n",
       "    </tr>\n",
       "  </tbody>\n",
       "</table>\n",
       "</div>"
      ],
      "text/plain": [
       "       0    1    2  3\n",
       "15    15   11    0  2\n",
       "173  173  176  137  2\n",
       "147  147  187  252  1\n",
       "165  165  179  228  1\n",
       "236  236  241  244  2\n",
       "149  149  190  253  1\n",
       "107  107  119  237  2\n",
       "164  164  164  116  2\n",
       "57    57   59   23  2\n",
       "66    66   67   25  2\n",
       "62    62   86   52  2\n",
       "123  123  121   90  2\n",
       "15    15   14    0  2\n",
       "42    42   43   23  2\n",
       "0      0    1    0  2\n",
       "23    23   88   63  2\n",
       "144  144  141   90  2\n",
       "57    57   59   23  2\n",
       "154  154  193  255  1\n",
       "248  248  250  250  2"
      ]
     },
     "execution_count": 3,
     "metadata": {},
     "output_type": "execute_result"
    }
   ],
   "source": [
    "df.head(20)"
   ]
  },
  {
   "cell_type": "code",
   "execution_count": 4,
   "metadata": {},
   "outputs": [
    {
     "name": "stdout",
     "output_type": "stream",
     "text": [
      "<class 'pandas.core.frame.DataFrame'>\n",
      "Int64Index: 245057 entries, 15 to 167\n",
      "Data columns (total 4 columns):\n",
      "0    245057 non-null int32\n",
      "1    245057 non-null int32\n",
      "2    245057 non-null int32\n",
      "3    245057 non-null int32\n",
      "dtypes: int32(4)\n",
      "memory usage: 5.6 MB\n"
     ]
    }
   ],
   "source": [
    "df.info()"
   ]
  },
  {
   "cell_type": "markdown",
   "metadata": {},
   "source": [
    "# Displaying the basic statistical details such as mean,std,min,max etc."
   ]
  },
  {
   "cell_type": "code",
   "execution_count": 5,
   "metadata": {},
   "outputs": [
    {
     "data": {
      "text/html": [
       "<div>\n",
       "<style scoped>\n",
       "    .dataframe tbody tr th:only-of-type {\n",
       "        vertical-align: middle;\n",
       "    }\n",
       "\n",
       "    .dataframe tbody tr th {\n",
       "        vertical-align: top;\n",
       "    }\n",
       "\n",
       "    .dataframe thead th {\n",
       "        text-align: right;\n",
       "    }\n",
       "</style>\n",
       "<table border=\"1\" class=\"dataframe\">\n",
       "  <thead>\n",
       "    <tr style=\"text-align: right;\">\n",
       "      <th></th>\n",
       "      <th>0</th>\n",
       "      <th>1</th>\n",
       "      <th>2</th>\n",
       "      <th>3</th>\n",
       "    </tr>\n",
       "  </thead>\n",
       "  <tbody>\n",
       "    <tr>\n",
       "      <td>count</td>\n",
       "      <td>245057.000000</td>\n",
       "      <td>245057.000000</td>\n",
       "      <td>245057.000000</td>\n",
       "      <td>245057.000000</td>\n",
       "    </tr>\n",
       "    <tr>\n",
       "      <td>mean</td>\n",
       "      <td>125.065446</td>\n",
       "      <td>132.507327</td>\n",
       "      <td>123.177151</td>\n",
       "      <td>1.792461</td>\n",
       "    </tr>\n",
       "    <tr>\n",
       "      <td>std</td>\n",
       "      <td>62.255653</td>\n",
       "      <td>59.941197</td>\n",
       "      <td>72.562165</td>\n",
       "      <td>0.405546</td>\n",
       "    </tr>\n",
       "    <tr>\n",
       "      <td>min</td>\n",
       "      <td>0.000000</td>\n",
       "      <td>0.000000</td>\n",
       "      <td>0.000000</td>\n",
       "      <td>1.000000</td>\n",
       "    </tr>\n",
       "    <tr>\n",
       "      <td>25%</td>\n",
       "      <td>68.000000</td>\n",
       "      <td>87.000000</td>\n",
       "      <td>70.000000</td>\n",
       "      <td>2.000000</td>\n",
       "    </tr>\n",
       "    <tr>\n",
       "      <td>50%</td>\n",
       "      <td>139.000000</td>\n",
       "      <td>153.000000</td>\n",
       "      <td>128.000000</td>\n",
       "      <td>2.000000</td>\n",
       "    </tr>\n",
       "    <tr>\n",
       "      <td>75%</td>\n",
       "      <td>176.000000</td>\n",
       "      <td>177.000000</td>\n",
       "      <td>164.000000</td>\n",
       "      <td>2.000000</td>\n",
       "    </tr>\n",
       "    <tr>\n",
       "      <td>max</td>\n",
       "      <td>255.000000</td>\n",
       "      <td>255.000000</td>\n",
       "      <td>255.000000</td>\n",
       "      <td>2.000000</td>\n",
       "    </tr>\n",
       "  </tbody>\n",
       "</table>\n",
       "</div>"
      ],
      "text/plain": [
       "                   0              1              2              3\n",
       "count  245057.000000  245057.000000  245057.000000  245057.000000\n",
       "mean      125.065446     132.507327     123.177151       1.792461\n",
       "std        62.255653      59.941197      72.562165       0.405546\n",
       "min         0.000000       0.000000       0.000000       1.000000\n",
       "25%        68.000000      87.000000      70.000000       2.000000\n",
       "50%       139.000000     153.000000     128.000000       2.000000\n",
       "75%       176.000000     177.000000     164.000000       2.000000\n",
       "max       255.000000     255.000000     255.000000       2.000000"
      ]
     },
     "execution_count": 5,
     "metadata": {},
     "output_type": "execute_result"
    }
   ],
   "source": [
    "df.describe()"
   ]
  },
  {
   "cell_type": "markdown",
   "metadata": {},
   "source": [
    "# 245057 rows and 4 columns i.e. pixel values B,G,R and class label "
   ]
  },
  {
   "cell_type": "code",
   "execution_count": 6,
   "metadata": {},
   "outputs": [
    {
     "data": {
      "text/plain": [
       "(245057, 4)"
      ]
     },
     "execution_count": 6,
     "metadata": {},
     "output_type": "execute_result"
    }
   ],
   "source": [
    "df.shape"
   ]
  },
  {
   "cell_type": "markdown",
   "metadata": {},
   "source": [
    "# Total number of elements"
   ]
  },
  {
   "cell_type": "code",
   "execution_count": 7,
   "metadata": {},
   "outputs": [
    {
     "data": {
      "text/plain": [
       "980228"
      ]
     },
     "execution_count": 7,
     "metadata": {},
     "output_type": "execute_result"
    }
   ],
   "source": [
    "# Total number of elements\n",
    "df.size"
   ]
  },
  {
   "cell_type": "markdown",
   "metadata": {},
   "source": [
    "# Historgram plot for B,G,R pixels and class label\n",
    "\n",
    "- As evident from the histogram plot below B,G,R pixel values have a variety of values while the class label has only 2 variables i.e. 1 and 2."
   ]
  },
  {
   "cell_type": "code",
   "execution_count": 8,
   "metadata": {},
   "outputs": [
    {
     "data": {
      "image/png": "[encoded data removed]",
      "text/plain": [
       "<Figure size 1440x1080 with 4 Axes>"
      ]
     },
     "metadata": {
      "needs_background": "light"
     },
     "output_type": "display_data"
    }
   ],
   "source": [
    "%matplotlib inline\n",
    "import matplotlib.pyplot as plt\n",
    "df.hist(bins=50,figsize=(20,15))\n",
    "plt.show()\n",
    "#df.hist()"
   ]
  },
  {
   "cell_type": "markdown",
   "metadata": {},
   "source": [
    "# Alloting column names to the data frame\n"
   ]
  },
  {
   "cell_type": "code",
   "execution_count": 9,
   "metadata": {},
   "outputs": [
    {
     "data": {
      "text/html": [
       "<div>\n",
       "<style scoped>\n",
       "    .dataframe tbody tr th:only-of-type {\n",
       "        vertical-align: middle;\n",
       "    }\n",
       "\n",
       "    .dataframe tbody tr th {\n",
       "        vertical-align: top;\n",
       "    }\n",
       "\n",
       "    .dataframe thead th {\n",
       "        text-align: right;\n",
       "    }\n",
       "</style>\n",
       "<table border=\"1\" class=\"dataframe\">\n",
       "  <thead>\n",
       "    <tr style=\"text-align: right;\">\n",
       "      <th></th>\n",
       "      <th>B</th>\n",
       "      <th>G</th>\n",
       "      <th>R</th>\n",
       "      <th>class label</th>\n",
       "    </tr>\n",
       "  </thead>\n",
       "  <tbody>\n",
       "    <tr>\n",
       "      <td>15</td>\n",
       "      <td>15</td>\n",
       "      <td>11</td>\n",
       "      <td>0</td>\n",
       "      <td>2</td>\n",
       "    </tr>\n",
       "    <tr>\n",
       "      <td>173</td>\n",
       "      <td>173</td>\n",
       "      <td>176</td>\n",
       "      <td>137</td>\n",
       "      <td>2</td>\n",
       "    </tr>\n",
       "    <tr>\n",
       "      <td>147</td>\n",
       "      <td>147</td>\n",
       "      <td>187</td>\n",
       "      <td>252</td>\n",
       "      <td>1</td>\n",
       "    </tr>\n",
       "    <tr>\n",
       "      <td>165</td>\n",
       "      <td>165</td>\n",
       "      <td>179</td>\n",
       "      <td>228</td>\n",
       "      <td>1</td>\n",
       "    </tr>\n",
       "    <tr>\n",
       "      <td>236</td>\n",
       "      <td>236</td>\n",
       "      <td>241</td>\n",
       "      <td>244</td>\n",
       "      <td>2</td>\n",
       "    </tr>\n",
       "  </tbody>\n",
       "</table>\n",
       "</div>"
      ],
      "text/plain": [
       "       B    G    R  class label\n",
       "15    15   11    0            2\n",
       "173  173  176  137            2\n",
       "147  147  187  252            1\n",
       "165  165  179  228            1\n",
       "236  236  241  244            2"
      ]
     },
     "execution_count": 9,
     "metadata": {},
     "output_type": "execute_result"
    }
   ],
   "source": [
    "df.columns=['B', 'G', 'R', 'class label']\n",
    "df.head(5)\n"
   ]
  },
  {
   "cell_type": "markdown",
   "metadata": {},
   "source": [
    "# Box plot for B,G,R"
   ]
  },
  {
   "cell_type": "code",
   "execution_count": 10,
   "metadata": {},
   "outputs": [
    {
     "data": {
      "text/plain": [
       "<matplotlib.axes._subplots.AxesSubplot at 0x11a279390>"
      ]
     },
     "execution_count": 10,
     "metadata": {},
     "output_type": "execute_result"
    },
    {
     "data": {
      "image/png": "[encoded data removed]",
      "text/plain": [
       "<Figure size 432x288 with 1 Axes>"
      ]
     },
     "metadata": {
      "needs_background": "light"
     },
     "output_type": "display_data"
    }
   ],
   "source": [
    "df.boxplot(column=['B', 'G', 'R'])"
   ]
  },
  {
   "cell_type": "code",
   "execution_count": 11,
   "metadata": {},
   "outputs": [
    {
     "name": "stdout",
     "output_type": "stream",
     "text": [
      "Last 10 labels: \n",
      "[2 2 2 2 2 2 1 2 2 2]\n",
      "last 10 attributes: \n",
      "[[164 163 113]\n",
      " [184 183 139]\n",
      " [ 53  53  17]\n",
      " [166 167 128]\n",
      " [187 185 144]\n",
      " [200 198 163]\n",
      " [154 184 239]\n",
      " [212 216 221]\n",
      " [136 136  88]\n",
      " [167 164 113]]\n"
     ]
    }
   ],
   "source": [
    "\n",
    "Y = data[:, (len(data[0]) - 1)] #equivalent to data[:, 3], we just made it generic\n",
    "print(\"Last 10 labels: \\n\" + str(Y[-10:]))\n",
    "\n",
    "X = data[:, range(0, 3)]\n",
    "print(\"last 10 attributes: \\n\" + str(X[-10:]))"
   ]
  },
  {
   "cell_type": "code",
   "execution_count": 12,
   "metadata": {},
   "outputs": [],
   "source": [
    "\n",
    "def plotter(c, index, plt):\n",
    "    label_colors = []\n",
    "    for value in Y[:500]:\n",
    "    \tif value == 1:\n",
    "    \t    label_colors.append(\"yellow\")\n",
    "    \telif index == 0:\n",
    "    \t    label_colors.append(\"blue\")\n",
    "    \telif index == 1:\n",
    "    \t    label_colors.append(\"green\")\n",
    "    \telse:\n",
    "    \t    label_colors.append(\"red\")\n",
    "\n",
    "    c.scatter(sp.arange(500), X[:500, index], c = label_colors )\n",
    "    if index == 0:\n",
    "    \tc.set_xlabel(\"blue\")\n",
    "    \tnon_skin_patch = mpatches.Patch(color = \"blue\", label = \"non-skin\")\n",
    "    elif index == 1:\n",
    "    \tc.set_xlabel(\"green\")\n",
    "    \tnon_skin_patch = mpatches.Patch(color = \"green\", label = \"non-skin\")\n",
    "    else:\n",
    "    \tc.set_xlabel(\"red\")\n",
    "    \tnon_skin_patch = mpatches.Patch(color = \"red\", label = \"non-skin\")\n",
    "\n",
    "    c.set_ylabel(\"pixel value\")\n",
    "    skin_patch = mpatches.Patch(color = \"yellow\", label = \"skin\")\n",
    "    plt.legend(handles = [skin_patch, non_skin_patch], loc = \"upper left\")"
   ]
  },
  {
   "cell_type": "markdown",
   "metadata": {},
   "source": [
    "# Plotting the B,G,R pixel values with respect to skin and non skin attributes."
   ]
  },
  {
   "cell_type": "code",
   "execution_count": 13,
   "metadata": {},
   "outputs": [
    {
     "data": {
      "image/png": "[encoded data removed]",
      "text/plain": [
       "<Figure size 432x288 with 3 Axes>"
      ]
     },
     "metadata": {
      "needs_background": "light"
     },
     "output_type": "display_data"
    }
   ],
   "source": [
    "# part - 1\n",
    "\n",
    "fig = plt.figure()\n",
    "r = fig.add_subplot(131)\n",
    "plotter(r, 0, plt)\n",
    "\n",
    "g = fig.add_subplot(132)\n",
    "plotter(g, 1, plt)\n",
    "\n",
    "b = fig.add_subplot(133)\n",
    "plotter(b, 2, plt)\n",
    "plt.show()"
   ]
  },
  {
   "cell_type": "code",
   "execution_count": 14,
   "metadata": {},
   "outputs": [
    {
     "name": "stdout",
     "output_type": "stream",
     "text": [
      "min of skin colors: 106\n",
      "max of skin colors: 255\n"
     ]
    },
    {
     "data": {
      "text/plain": [
       "(50859, 4)"
      ]
     },
     "metadata": {},
     "output_type": "display_data"
    }
   ],
   "source": [
    "skin_data = data[data[ : , 3] == 1]\n",
    "print(\"min of skin colors: \" + str(skin_data[ : , 2].min()))\n",
    "print(\"max of skin colors: \" + str(skin_data[ : , 2].max()))\n",
    "display(skin_data.shape)"
   ]
  },
  {
   "cell_type": "markdown",
   "metadata": {},
   "source": [
    "# Performing a 80-20 training -test split"
   ]
  },
  {
   "cell_type": "code",
   "execution_count": 15,
   "metadata": {},
   "outputs": [
    {
     "data": {
      "text/plain": [
       "(196045, 4)"
      ]
     },
     "metadata": {},
     "output_type": "display_data"
    },
    {
     "data": {
      "text/plain": [
       "(49012, 4)"
      ]
     },
     "metadata": {},
     "output_type": "display_data"
    },
    {
     "name": "stderr",
     "output_type": "stream",
     "text": [
      "100%|██████████| 49012/49012 [00:33<00:00, 1450.45it/s]"
     ]
    },
    {
     "name": "stdout",
     "output_type": "stream",
     "text": [
      "Achieved accuracy of 0.9996735493348567 precents!\n"
     ]
    },
    {
     "name": "stderr",
     "output_type": "stream",
     "text": [
      "\n"
     ]
    }
   ],
   "source": [
    "def slow_Eu_Dist(p1, p2):\n",
    "    \treturn np.sum( (p1-p2)**2)\n",
    "\n",
    "def little_faster_Eu_Dist(x, y):\n",
    "    \tdiff = np.array(x) - np.array(y)\n",
    "    \treturn np.dot(diff, diff)\n",
    "\n",
    "def faster_Eu_Dist(t, td):\n",
    "\tsd = np.zeros(shape = (1, len(td)));\n",
    "\tfor i in range (0, len(t)):\n",
    "\t\tsd = sd + ((t[i] - td[:, i]) ** 2)\n",
    "\treturn sd\n",
    "\n",
    "from tqdm import tqdm\n",
    "def NN_Classify(tr_X, tr_Y, te_X):\n",
    "\tprediction = []\n",
    "\tfor te in tqdm(range(0, len(te_X))):\n",
    "\t\t#distances = np.array([slow_Eu_Dist(tr, te_X[te]) for tr in tr_X])\n",
    "\t\t#distances = np.array([np.linalg.norm(tr - te_X[te]) for tr in tr_X])\n",
    "\t\t#distances = np.array([little_faster_Eu_Dist(tr, te_X[te]) for tr in tr_X])\n",
    "\t\t#distances = faster_Eu_Dist(te_X[te], tr_X)#3\":8'\n",
    "\t\t\n",
    "\t\t# removing a function call overhead makes it ever faster!!\t\t\n",
    "\t\tdistances = (te_X[te, 0] - tr_X[:, 0]) ** 2 + (te_X[te, 1] - tr_X[:, 1]) ** 2 + (te_X[te, 2] - tr_X[:, 2]) ** 2\n",
    "\t\tnearest = distances.argmin()\n",
    "\t\tprediction.append(tr_Y[nearest])\n",
    "\treturn prediction\n",
    "\n",
    "def NN_Score(actual, predicted):\n",
    "\tscore = 0\n",
    "\tfor i in range(0, len(actual)):\n",
    "\t\tif actual[i] == predicted[i]:\n",
    "\t\t\tscore += 1\n",
    "\treturn score / len(actual)\n",
    "\n",
    "train_percent = 0.80\n",
    "data_train = data[: int(data.shape[0]*train_percent)]\n",
    "data_test = data[int(train_percent*data.shape[0]) : data.shape[0]]\n",
    "display(data_train.shape)\n",
    "display(data_test.shape)\n",
    "tr_Y = data_train[:, (len(data[0]) - 1)]\n",
    "tr_X = data_train[:, range(0, 3)]\n",
    "te_Y = data_test[:, (len(data[0]) - 1)]\n",
    "te_X = data_test[:, range(0, 3)]\n",
    "\n",
    "predicted = NN_Classify(tr_X, tr_Y, te_X)\n",
    "score = NN_Score(te_Y, predicted)\n",
    "\n",
    "print(\"Achieved accuracy of \" + str(score) + \" precents!\")"
   ]
  },
  {
   "cell_type": "markdown",
   "metadata": {},
   "source": [
    "# K fold Cross Validation\n",
    "number of folds =3"
   ]
  },
  {
   "cell_type": "code",
   "execution_count": 16,
   "metadata": {},
   "outputs": [
    {
     "name": "stdout",
     "output_type": "stream",
     "text": [
      "Total Skin data: (50859, 4)\n",
      "Total Non-Skin data: (194198, 4)\n"
     ]
    },
    {
     "name": "stderr",
     "output_type": "stream",
     "text": [
      "100%|██████████| 81685/81685 [00:41<00:00, 1968.40it/s]\n"
     ]
    },
    {
     "name": "stdout",
     "output_type": "stream",
     "text": [
      "score in fold 0: 0.9994246189630899\n"
     ]
    },
    {
     "name": "stderr",
     "output_type": "stream",
     "text": [
      "100%|██████████| 81686/81686 [00:42<00:00, 1917.44it/s]\n"
     ]
    },
    {
     "name": "stdout",
     "output_type": "stream",
     "text": [
      "score in fold 1: 0.9996327400044072\n"
     ]
    },
    {
     "name": "stderr",
     "output_type": "stream",
     "text": [
      "100%|██████████| 81686/81686 [00:40<00:00, 2030.08it/s]"
     ]
    },
    {
     "name": "stdout",
     "output_type": "stream",
     "text": [
      "score in fold 2: 0.9995348040055824\n",
      "for 3 folds cross validation, accuracy is: 0.9995307209910265\n"
     ]
    },
    {
     "name": "stderr",
     "output_type": "stream",
     "text": [
      "\n"
     ]
    }
   ],
   "source": [
    "s_data = data[data[ : , 3] == 1]\n",
    "ns_data = data[data[ : , 3] == 2]\n",
    "\n",
    "print(\"Total Skin data: \" + str(s_data.shape))\n",
    "print(\"Total Non-Skin data: \" + str(ns_data.shape))\n",
    "\n",
    "folds = 3\n",
    "total_score = 0\n",
    "for i in range(0, folds):\n",
    "    tr_s_data = sp.delete(s_data, [range( int(i*(len(s_data)/folds)), int((i+1)*(len(s_data)/folds)) )], 0)\n",
    "    te_s_data = s_data[int(i*(len(s_data)/folds)) : int((i+1)*(len(s_data)/folds)), :]\n",
    "    #print(\"te_s_data shape: \" + str(te_s_data.shape))\n",
    "\n",
    "    \n",
    "    tr_ns_data = sp.delete(ns_data, [range( int(i*(len(ns_data)/folds)), int((i+1)*(len(ns_data)/folds)) )], 0)\n",
    "    te_ns_data = ns_data[int(i*(len(ns_data)/folds)):int((i+1)*(len(ns_data)/folds)), :]\n",
    "    #print(\"te_ns_data shape: \" + str(te_ns_data.shape))\n",
    "\n",
    "    \n",
    "    tr_data = np.vstack((tr_s_data, tr_ns_data))\n",
    "    te_data = np.vstack((te_s_data, te_ns_data))\n",
    "\n",
    "    np.random.shuffle(tr_data)\n",
    "    np.random.shuffle(te_data)\n",
    "\n",
    "    #print(\"tr_data shape: \" + str(tr_data.shape))\n",
    "    #print(\"te_data shape: \" + str(te_data.shape))\n",
    "\n",
    "\n",
    "    tr_Y = tr_data[:, (len(tr_data[0]) - 1)]\n",
    "    tr_X = tr_data[:, range(0, 3)]\n",
    "    te_Y = te_data[:, (len(tr_data[0]) - 1)]\n",
    "    te_X = te_data[:, range(0, 3)]\n",
    "    \n",
    "    predicted = NN_Classify(tr_X, tr_Y, te_X)\n",
    "    score = NN_Score(te_Y, predicted)\n",
    "    print(\"score in fold \" + str(i) + \": \" + str(score))\n",
    "    total_score += score\n",
    "    \n",
    "avg_score = total_score / folds\n",
    "print(\"for \" + str(folds) + \" folds cross validation, accuracy is: \" + str(avg_score))"
   ]
  },
  {
   "cell_type": "markdown",
   "metadata": {},
   "source": [
    "# Performing a 90-10 split "
   ]
  },
  {
   "cell_type": "code",
   "execution_count": 17,
   "metadata": {},
   "outputs": [
    {
     "name": "stderr",
     "output_type": "stream",
     "text": [
      "100%|██████████| 220552/220552 [00:16<00:00, 13565.18it/s]\n"
     ]
    },
    {
     "name": "stdout",
     "output_type": "stream",
     "text": [
      "Achieved accuracy of 0.9990841162174907 percent!\n"
     ]
    }
   ],
   "source": [
    "def slow_Eu_Dist(p1, p2):\n",
    "    \treturn np.sum( (p1-p2)**2)\n",
    "\n",
    "def little_faster_Eu_Dist(x, y):\n",
    "    \tdiff = np.array(x) - np.array(y)\n",
    "    \treturn np.dot(diff, diff)\n",
    "\n",
    "def faster_Eu_Dist(t, td):\n",
    "\tsd = np.zeros(shape = (1, len(td)));\n",
    "\tfor i in range (0, len(t)):\n",
    "\t\tsd = sd + ((t[i] - td[:, i]) ** 2)\n",
    "\treturn sd\n",
    "\n",
    "from tqdm import tqdm\n",
    "def NN_Classify(tr_X, tr_Y, te_X):\n",
    "\tprediction = []\n",
    "\tfor te in tqdm(range(0, len(te_X))):\n",
    "\t\t#distances = np.array([slow_Eu_Dist(tr, te_X[te]) for tr in tr_X])\n",
    "\t\t#distances = np.array([np.linalg.norm(tr - te_X[te]) for tr in tr_X])\n",
    "\t\t#distances = np.array([little_faster_Eu_Dist(tr, te_X[te]) for tr in tr_X])\n",
    "\t\t#distances = faster_Eu_Dist(te_X[te], tr_X)#3\":8'\n",
    "\t\t\n",
    "\t\t# removing a function call overhead makes it ever faster!!\t\t\n",
    "\t\tdistances = (te_X[te, 0] - tr_X[:, 0]) ** 2 + (te_X[te, 1] - tr_X[:, 1]) ** 2 + (te_X[te, 2] - tr_X[:, 2]) ** 2\n",
    "\t\tnearest = distances.argmin()\n",
    "\t\tprediction.append(tr_Y[nearest])\n",
    "\treturn prediction\n",
    "\n",
    "def NN_Score(actual, predicted):\n",
    "\tscore = 0\n",
    "\tfor i in range(0, len(actual)):\n",
    "\t\tif actual[i] == predicted[i]:\n",
    "\t\t\tscore += 1\n",
    "\treturn score / len(actual)\n",
    "\n",
    "train_percent = 0.10\n",
    "data_train = data[: int(data.shape[0]*train_percent)]\n",
    "data_test = data[int(train_percent*data.shape[0]) : data.shape[0]]\n",
    "\n",
    "tr_Y = data_train[:, (len(data[0]) - 1)]\n",
    "tr_X = data_train[:, range(0, 3)]\n",
    "te_Y = data_test[:, (len(data[0]) - 1)]\n",
    "te_X = data_test[:, range(0, 3)]\n",
    "\n",
    "predicted = NN_Classify(tr_X, tr_Y, te_X)\n",
    "score = NN_Score(te_Y, predicted)\n",
    "\n",
    "print(\"Achieved accuracy of \" + str(score) + \" percent!\")"
   ]
  },
  {
   "cell_type": "markdown",
   "metadata": {},
   "source": [
    "# 5 fold cross validation"
   ]
  },
  {
   "cell_type": "code",
   "execution_count": 18,
   "metadata": {},
   "outputs": [
    {
     "name": "stdout",
     "output_type": "stream",
     "text": [
      "Total Skin data: (50859, 4)\n",
      "Total Non-Skin data: (194198, 4)\n"
     ]
    },
    {
     "name": "stderr",
     "output_type": "stream",
     "text": [
      "100%|██████████| 49010/49010 [00:28<00:00, 1692.74it/s]\n"
     ]
    },
    {
     "name": "stdout",
     "output_type": "stream",
     "text": [
      "score in fold 0: 0.9995919200163232\n"
     ]
    },
    {
     "name": "stderr",
     "output_type": "stream",
     "text": [
      "100%|██████████| 49012/49012 [00:28<00:00, 1706.91it/s]\n"
     ]
    },
    {
     "name": "stdout",
     "output_type": "stream",
     "text": [
      "score in fold 1: 0.9994491145025708\n"
     ]
    },
    {
     "name": "stderr",
     "output_type": "stream",
     "text": [
      "100%|██████████| 49011/49011 [00:28<00:00, 1700.33it/s]\n"
     ]
    },
    {
     "name": "stdout",
     "output_type": "stream",
     "text": [
      "score in fold 2: 0.9996327355083553\n"
     ]
    },
    {
     "name": "stderr",
     "output_type": "stream",
     "text": [
      "100%|██████████| 49012/49012 [00:28<00:00, 1710.13it/s]\n"
     ]
    },
    {
     "name": "stdout",
     "output_type": "stream",
     "text": [
      "score in fold 3: 0.9995103240022851\n"
     ]
    },
    {
     "name": "stderr",
     "output_type": "stream",
     "text": [
      "100%|██████████| 49012/49012 [00:28<00:00, 1702.66it/s]"
     ]
    },
    {
     "name": "stdout",
     "output_type": "stream",
     "text": [
      "score in fold 4: 0.9995919366685709\n",
      "for 5 folds cross validation, accuracy is: 0.9995552061396211\n"
     ]
    },
    {
     "name": "stderr",
     "output_type": "stream",
     "text": [
      "\n"
     ]
    }
   ],
   "source": [
    "s_data = data[data[ : , 3] == 1]\n",
    "ns_data = data[data[ : , 3] == 2]\n",
    "\n",
    "print(\"Total Skin data: \" + str(s_data.shape))\n",
    "print(\"Total Non-Skin data: \" + str(ns_data.shape))\n",
    "\n",
    "folds = 5\n",
    "total_score = 0\n",
    "for i in range(0, folds):\n",
    "    tr_s_data = sp.delete(s_data, [range( int(i*(len(s_data)/folds)), int((i+1)*(len(s_data)/folds)) )], 0)\n",
    "    te_s_data = s_data[int(i*(len(s_data)/folds)) : int((i+1)*(len(s_data)/folds)), :]\n",
    "    #print(\"te_s_data shape: \" + str(te_s_data.shape))\n",
    "\n",
    "    \n",
    "    tr_ns_data = sp.delete(ns_data, [range( int(i*(len(ns_data)/folds)), int((i+1)*(len(ns_data)/folds)) )], 0)\n",
    "    te_ns_data = ns_data[int(i*(len(ns_data)/folds)):int((i+1)*(len(ns_data)/folds)), :]\n",
    "    #print(\"te_ns_data shape: \" + str(te_ns_data.shape))\n",
    "\n",
    "    \n",
    "    tr_data = np.vstack((tr_s_data, tr_ns_data))\n",
    "    te_data = np.vstack((te_s_data, te_ns_data))\n",
    "\n",
    "    np.random.shuffle(tr_data)\n",
    "    np.random.shuffle(te_data)\n",
    "\n",
    "    #print(\"tr_data shape: \" + str(tr_data.shape))\n",
    "    #print(\"te_data shape: \" + str(te_data.shape))\n",
    "\n",
    "\n",
    "    tr_Y = tr_data[:, (len(tr_data[0]) - 1)]\n",
    "    tr_X = tr_data[:, range(0, 3)]\n",
    "    te_Y = te_data[:, (len(tr_data[0]) - 1)]\n",
    "    te_X = te_data[:, range(0, 3)]\n",
    "    \n",
    "    predicted = NN_Classify(tr_X, tr_Y, te_X)\n",
    "    score = NN_Score(te_Y, predicted)\n",
    "    print(\"score in fold \" + str(i) + \": \" + str(score))\n",
    "    total_score += score\n",
    "    \n",
    "avg_score = total_score / folds\n",
    "print(\"for \" + str(folds) + \" folds cross validation, accuracy is: \" + str(avg_score))"
   ]
  },
  {
   "cell_type": "markdown",
   "metadata": {},
   "source": [
    "# Using 50-50 train test split"
   ]
  },
  {
   "cell_type": "code",
   "execution_count": 19,
   "metadata": {},
   "outputs": [
    {
     "data": {
      "text/plain": [
       "(122528, 4)"
      ]
     },
     "metadata": {},
     "output_type": "display_data"
    },
    {
     "data": {
      "text/plain": [
       "(122529, 4)"
      ]
     },
     "metadata": {},
     "output_type": "display_data"
    },
    {
     "name": "stderr",
     "output_type": "stream",
     "text": [
      "100%|██████████| 122529/122529 [00:44<00:00, 2768.07it/s]"
     ]
    },
    {
     "name": "stdout",
     "output_type": "stream",
     "text": [
      "Achieved accuracy of 0.9995348040055824 precents!\n"
     ]
    },
    {
     "name": "stderr",
     "output_type": "stream",
     "text": [
      "\n"
     ]
    }
   ],
   "source": [
    "def slow_Eu_Dist(p1, p2):\n",
    "    \treturn np.sum( (p1-p2)**2)\n",
    "\n",
    "def little_faster_Eu_Dist(x, y):\n",
    "    \tdiff = np.array(x) - np.array(y)\n",
    "    \treturn np.dot(diff, diff)\n",
    "\n",
    "def faster_Eu_Dist(t, td):\n",
    "\tsd = np.zeros(shape = (1, len(td)));\n",
    "\tfor i in range (0, len(t)):\n",
    "\t\tsd = sd + ((t[i] - td[:, i]) ** 2)\n",
    "\treturn sd\n",
    "\n",
    "from tqdm import tqdm\n",
    "def NN_Classify(tr_X, tr_Y, te_X):\n",
    "\tprediction = []\n",
    "\tfor te in tqdm(range(0, len(te_X))):\n",
    "\t\t#distances = np.array([slow_Eu_Dist(tr, te_X[te]) for tr in tr_X])\n",
    "\t\t#distances = np.array([np.linalg.norm(tr - te_X[te]) for tr in tr_X])\n",
    "\t\t#distances = np.array([little_faster_Eu_Dist(tr, te_X[te]) for tr in tr_X])\n",
    "\t\t#distances = faster_Eu_Dist(te_X[te], tr_X)#3\":8'\n",
    "\t\t\n",
    "\t\t# removing a function call overhead makes it ever faster!!\t\t\n",
    "\t\tdistances = (te_X[te, 0] - tr_X[:, 0]) ** 2 + (te_X[te, 1] - tr_X[:, 1]) ** 2 + (te_X[te, 2] - tr_X[:, 2]) ** 2\n",
    "\t\tnearest = distances.argmin()\n",
    "\t\tprediction.append(tr_Y[nearest])\n",
    "\treturn prediction\n",
    "\n",
    "def NN_Score(actual, predicted):\n",
    "\tscore = 0\n",
    "\tfor i in range(0, len(actual)):\n",
    "\t\tif actual[i] == predicted[i]:\n",
    "\t\t\tscore += 1\n",
    "\treturn score / len(actual)\n",
    "\n",
    "train_percent = 0.50\n",
    "data_train = data[: int(data.shape[0]*train_percent)]\n",
    "data_test = data[int(train_percent*data.shape[0]) : data.shape[0]]\n",
    "display(data_train.shape)\n",
    "display(data_test.shape)\n",
    "tr_Y = data_train[:, (len(data[0]) - 1)]\n",
    "tr_X = data_train[:, range(0, 3)]\n",
    "te_Y = data_test[:, (len(data[0]) - 1)]\n",
    "te_X = data_test[:, range(0, 3)]\n",
    "\n",
    "predicted = NN_Classify(tr_X, tr_Y, te_X)\n",
    "score = NN_Score(te_Y, predicted)\n",
    "\n",
    "print(\"Achieved accuracy of \" + str(score) + \" precents!\")"
   ]
  },
  {
   "cell_type": "markdown",
   "metadata": {},
   "source": [
    "# 10 fold CV"
   ]
  },
  {
   "cell_type": "code",
   "execution_count": 20,
   "metadata": {},
   "outputs": [
    {
     "name": "stdout",
     "output_type": "stream",
     "text": [
      "Total Skin data: (50859, 4)\n",
      "Total Non-Skin data: (194198, 4)\n"
     ]
    },
    {
     "name": "stderr",
     "output_type": "stream",
     "text": [
      "100%|██████████| 24504/24504 [00:16<00:00, 1506.06it/s]\n"
     ]
    },
    {
     "name": "stdout",
     "output_type": "stream",
     "text": [
      "score in fold 0: 0.9997143323539014\n"
     ]
    },
    {
     "name": "stderr",
     "output_type": "stream",
     "text": [
      "100%|██████████| 24506/24506 [00:16<00:00, 1511.29it/s]\n"
     ]
    },
    {
     "name": "stdout",
     "output_type": "stream",
     "text": [
      "score in fold 1: 0.9995103240022851\n"
     ]
    },
    {
     "name": "stderr",
     "output_type": "stream",
     "text": [
      "100%|██████████| 24506/24506 [00:16<00:00, 1508.43it/s]\n"
     ]
    },
    {
     "name": "stdout",
     "output_type": "stream",
     "text": [
      "score in fold 2: 0.9992654860034277\n"
     ]
    },
    {
     "name": "stderr",
     "output_type": "stream",
     "text": [
      "100%|██████████| 24506/24506 [00:16<00:00, 1503.12it/s]\n"
     ]
    },
    {
     "name": "stdout",
     "output_type": "stream",
     "text": [
      "score in fold 3: 0.9995919366685709\n"
     ]
    },
    {
     "name": "stderr",
     "output_type": "stream",
     "text": [
      "100%|██████████| 24506/24506 [00:16<00:00, 1519.17it/s]\n"
     ]
    },
    {
     "name": "stdout",
     "output_type": "stream",
     "text": [
      "score in fold 4: 0.9996735493348567\n"
     ]
    },
    {
     "name": "stderr",
     "output_type": "stream",
     "text": [
      "100%|██████████| 24505/24505 [00:16<00:00, 1506.41it/s]\n"
     ]
    },
    {
     "name": "stdout",
     "output_type": "stream",
     "text": [
      "score in fold 5: 0.9995103040195878\n"
     ]
    },
    {
     "name": "stderr",
     "output_type": "stream",
     "text": [
      "100%|██████████| 24506/24506 [00:16<00:00, 1510.92it/s]\n"
     ]
    },
    {
     "name": "stdout",
     "output_type": "stream",
     "text": [
      "score in fold 6: 0.9995919366685709\n"
     ]
    },
    {
     "name": "stderr",
     "output_type": "stream",
     "text": [
      "100%|██████████| 24506/24506 [00:16<00:00, 1510.48it/s]\n"
     ]
    },
    {
     "name": "stdout",
     "output_type": "stream",
     "text": [
      "score in fold 7: 0.9995919366685709\n"
     ]
    },
    {
     "name": "stderr",
     "output_type": "stream",
     "text": [
      "100%|██████████| 24506/24506 [00:16<00:00, 1508.54it/s]\n"
     ]
    },
    {
     "name": "stdout",
     "output_type": "stream",
     "text": [
      "score in fold 8: 0.9996327430017139\n"
     ]
    },
    {
     "name": "stderr",
     "output_type": "stream",
     "text": [
      "100%|██████████| 24506/24506 [00:16<00:00, 1505.66it/s]"
     ]
    },
    {
     "name": "stdout",
     "output_type": "stream",
     "text": [
      "score in fold 9: 0.9995103240022851\n",
      "for 10 folds cross validation, accuracy is: 0.9995592872723771\n"
     ]
    },
    {
     "name": "stderr",
     "output_type": "stream",
     "text": [
      "\n"
     ]
    }
   ],
   "source": [
    "s_data = data[data[ : , 3] == 1]\n",
    "ns_data = data[data[ : , 3] == 2]\n",
    "\n",
    "print(\"Total Skin data: \" + str(s_data.shape))\n",
    "print(\"Total Non-Skin data: \" + str(ns_data.shape))\n",
    "\n",
    "folds = 10\n",
    "total_score = 0\n",
    "for i in range(0, folds):\n",
    "    tr_s_data = sp.delete(s_data, [range( int(i*(len(s_data)/folds)), int((i+1)*(len(s_data)/folds)) )], 0)\n",
    "    te_s_data = s_data[int(i*(len(s_data)/folds)) : int((i+1)*(len(s_data)/folds)), :]\n",
    "    #print(\"te_s_data shape: \" + str(te_s_data.shape))\n",
    "\n",
    "    \n",
    "    tr_ns_data = sp.delete(ns_data, [range( int(i*(len(ns_data)/folds)), int((i+1)*(len(ns_data)/folds)) )], 0)\n",
    "    te_ns_data = ns_data[int(i*(len(ns_data)/folds)):int((i+1)*(len(ns_data)/folds)), :]\n",
    "    #print(\"te_ns_data shape: \" + str(te_ns_data.shape))\n",
    "\n",
    "    \n",
    "    tr_data = np.vstack((tr_s_data, tr_ns_data))\n",
    "    te_data = np.vstack((te_s_data, te_ns_data))\n",
    "\n",
    "    np.random.shuffle(tr_data)\n",
    "    np.random.shuffle(te_data)\n",
    "\n",
    "    #print(\"tr_data shape: \" + str(tr_data.shape))\n",
    "    #print(\"te_data shape: \" + str(te_data.shape))\n",
    "\n",
    "\n",
    "    tr_Y = tr_data[:, (len(tr_data[0]) - 1)]\n",
    "    tr_X = tr_data[:, range(0, 3)]\n",
    "    te_Y = te_data[:, (len(tr_data[0]) - 1)]\n",
    "    te_X = te_data[:, range(0, 3)]\n",
    "    \n",
    "    predicted = NN_Classify(tr_X, tr_Y, te_X)\n",
    "    score = NN_Score(te_Y, predicted)\n",
    "    print(\"score in fold \" + str(i) + \": \" + str(score))\n",
    "    total_score += score\n",
    "    \n",
    "avg_score = total_score / folds\n",
    "print(\"for \" + str(folds) + \" folds cross validation, accuracy is: \" + str(avg_score))"
   ]
  },
  {
   "cell_type": "markdown",
   "metadata": {},
   "source": [
    "# Testing on Real Data"
   ]
  },
  {
   "cell_type": "markdown",
   "metadata": {},
   "source": [
    "img = sp.misc.imread('test_4.jpg')\n",
    "print(img.shape)\n",
    "w, h = img.shape[0:2]\n",
    "img = img.reshape((img.shape[0] * img.shape[1], img.shape[2]))\n",
    "img[:, [0, 2]] = img[:, [2, 0]]\n",
    "print(img.shape)\n",
    "# now we do not mind using all the data\n",
    "tr_Y = data[:, (len(data[0]) - 1)]\n",
    "tr_X = data[:, range(0, len(data[0]))]\n",
    "predicted = np.array(NN_Classify(tr_X, tr_Y, img))\n",
    "\n",
    "# if skin -white, black otherwise!\n",
    "new_img = np.zeros(shape = (w*h, 3), dtype=np.uint8)\n",
    "print(\"new image is of : \" + str(new_img.shape))\n",
    "print(\"predicted is of : \" + str(predicted.shape))\n",
    "for i in range(0, len(img)):\n",
    "    if predicted[i] != 2.0:\n",
    "        new_img[i] = [255, 255, 255]\n",
    "\n",
    "new_img = new_img.reshape((w, h, 3))\n",
    "import matplotlib.pyplot as plt\n",
    "plt.imshow(new_img)\n",
    "plt.savefig('test_4_out.jpg')\n",
    "plt.show()\n",
    "plt.close()"
   ]
  },
  {
   "cell_type": "markdown",
   "metadata": {},
   "source": [
    "# KNN"
   ]
  },
  {
   "cell_type": "code",
   "execution_count": 17,
   "metadata": {},
   "outputs": [
    {
     "name": "stdout",
     "output_type": "stream",
     "text": [
      "Last 10 rows of Data: \n",
      "[[156 158 112   2]\n",
      " [ 72  87 126   1]\n",
      " [193 193 169   2]\n",
      " [174 172 124   2]\n",
      " [ 84  82  28   2]\n",
      " [177 174 129   2]\n",
      " [120 161 210   1]\n",
      " [197 195 161   2]\n",
      " [173 172 122   2]\n",
      " [ 42  43  41   2]]\n",
      "(245057, 4)\n",
      "Last 10 labels: \n",
      "[2 1 2 2 2 2 1 2 2 2]\n",
      "last 10 attributes: \n",
      "[[156 158 112]\n",
      " [ 72  87 126]\n",
      " [193 193 169]\n",
      " [174 172 124]\n",
      " [ 84  82  28]\n",
      " [177 174 129]\n",
      " [120 161 210]\n",
      " [197 195 161]\n",
      " [173 172 122]\n",
      " [ 42  43  41]]\n"
     ]
    },
    {
     "data": {
      "image/png": "[encoded data removed]",
      "text/plain": [
       "<Figure size 432x288 with 3 Axes>"
      ]
     },
     "metadata": {
      "needs_background": "light"
     },
     "output_type": "display_data"
    }
   ],
   "source": [
    "import itertools\n",
    "import numpy as np\n",
    "import matplotlib.pyplot as plt\n",
    "from matplotlib.ticker import NullFormatter\n",
    "import pandas as pd\n",
    "import numpy as np\n",
    "import matplotlib.ticker as ticker\n",
    "from sklearn import preprocessing"
   ]
  },
  {
   "cell_type": "code",
   "execution_count": 18,
   "metadata": {},
   "outputs": [],
   "source": [
    "from sklearn.neighbors import KNeighborsClassifier\n",
    "from sklearn import metrics"
   ]
  },
  {
   "cell_type": "code",
   "execution_count": 19,
   "metadata": {},
   "outputs": [
    {
     "name": "stdout",
     "output_type": "stream",
     "text": [
      "mean acuuracy: [0.99958377 0.99946135 0.99954705 0.99943687 0.99947359 0.99941238\n",
      " 0.99943687 0.99936342 0.99940014 0.99926548 0.99925324 0.99922875\n",
      " 0.99930221 0.99920427 0.99921651 0.9991553  0.9991553  0.99906961\n",
      " 0.99906961 0.99905737 0.99905737 0.99902064 0.99902064 0.9990084\n",
      " 0.9990084  0.99895943 0.99895943 0.99887374 0.99888598 0.99886149\n",
      " 0.99886149 0.99882477 0.99881253 0.99878804 0.99878804 0.99876356\n",
      " 0.99876356 0.99873907 0.99875132 0.99871459 0.99871459 0.99866562\n",
      " 0.99866562 0.9986289  0.9986289  0.99861665 0.99861665 0.99860441\n",
      " 0.99864114 0.99861665 0.99861665 0.99857993 0.99859217 0.99855544\n",
      " 0.99857993 0.99853096 0.9985432  0.9985432  0.99855544 0.99851872\n",
      " 0.99851872 0.99850648 0.99850648 0.99846975 0.99849423 0.99844527\n",
      " 0.99846975 0.99843302 0.99843302 0.9983963  0.9983963  0.9983963\n",
      " 0.9983963  0.99838406 0.99838406 0.99835957 0.99835957 0.99829836\n",
      " 0.99829836 0.99821267 0.99822491 0.99815146 0.99815146 0.99813922\n",
      " 0.9981637  0.99809025 0.99811473 0.99805352 0.99806576 0.99802904\n",
      " 0.99804128 0.9980168  0.99802904 0.99800455 0.9980168  0.99799231\n",
      " 0.99799231 0.99800455 0.99800455]\n",
      "standard acuuracy: [7.13676550e-05 8.11823672e-05 7.44483114e-05 8.30059011e-05\n",
      " 8.02550297e-05 8.47901399e-05 8.30059011e-05 8.82502136e-05\n",
      " 8.56682930e-05 9.47912909e-05 9.55773686e-05 9.71303841e-05\n",
      " 9.23928196e-05 9.86588818e-05 9.78976255e-05 1.01646730e-04\n",
      " 1.01646730e-04 1.06673622e-04 1.06673622e-04 1.07372470e-04\n",
      " 1.07372470e-04 1.09442144e-04 1.09442144e-04 1.10123359e-04\n",
      " 1.10123359e-04 1.12806924e-04 1.12806924e-04 1.17354995e-04\n",
      " 1.16716169e-04 1.17990347e-04 1.17990347e-04 1.19876109e-04\n",
      " 1.20498108e-04 1.21732526e-04 1.21732526e-04 1.22954492e-04\n",
      " 1.22954492e-04 1.24164374e-04 1.23560921e-04 1.25362521e-04\n",
      " 1.25362521e-04 1.27724929e-04 1.27724929e-04 1.29468300e-04\n",
      " 1.29468300e-04 1.30044202e-04 1.30044202e-04 1.30617551e-04\n",
      " 1.28889811e-04 1.30044202e-04 1.30044202e-04 1.31756722e-04\n",
      " 1.31188380e-04 1.32886072e-04 1.31756722e-04 1.34005851e-04\n",
      " 1.33447143e-04 1.33447143e-04 1.32886072e-04 1.34562225e-04\n",
      " 1.34562225e-04 1.35116295e-04 1.35116295e-04 1.36764957e-04\n",
      " 1.35668089e-04 1.37853044e-04 1.36764957e-04 1.38393860e-04\n",
      " 1.38393860e-04 1.40003695e-04 1.40003695e-04 1.40003695e-04\n",
      " 1.40003695e-04 1.40536183e-04 1.40536183e-04 1.41595112e-04\n",
      " 1.41595112e-04 1.44208198e-04 1.44208198e-04 1.47788396e-04\n",
      " 1.47282305e-04 1.50293108e-04 1.50293108e-04 1.50789022e-04\n",
      " 1.49795541e-04 1.52756456e-04 1.51775951e-04 1.54215437e-04\n",
      " 1.53730660e-04 1.55180411e-04 1.54698682e-04 1.55660637e-04\n",
      " 1.55180411e-04 1.56139374e-04 1.55660637e-04 1.56616636e-04\n",
      " 1.56616636e-04 1.56139374e-04 1.56139374e-04]\n"
     ]
    }
   ],
   "source": [
    "Ks = 100\n",
    "mean_acc = np.zeros((Ks-1))\n",
    "std_acc = np.zeros((Ks-1))\n",
    "ConfustionMx = [];\n",
    "for n in range(1,Ks):\n",
    "    \n",
    "    #Train Model and Predict  \n",
    "    neigh = KNeighborsClassifier(n_neighbors = n).fit(tr_X,tr_Y)\n",
    "    yhat=neigh.predict(te_X)\n",
    "    mean_acc[n-1] = metrics.accuracy_score(te_Y, yhat)\n",
    "\n",
    "    \n",
    "    std_acc[n-1]=np.std(yhat==te_Y)/np.sqrt(yhat.shape[0])\n",
    "\n",
    "print(\"mean acuuracy:\",mean_acc)\n",
    "print(\"standard acuuracy:\",std_acc)"
   ]
  },
  {
   "cell_type": "code",
   "execution_count": 20,
   "metadata": {},
   "outputs": [
    {
     "data": {
      "image/png": "[encoded data removed]",
      "text/plain": [
       "<Figure size 1440x432 with 1 Axes>"
      ]
     },
     "metadata": {
      "needs_background": "light"
     },
     "output_type": "display_data"
    }
   ],
   "source": [
    "plt.figure(figsize=(20,6))\n",
    "plt.plot(range(1,Ks),mean_acc,'g')\n",
    "#plt.fill_between(range(1,Ks),mean_acc - 1 * std_acc,mean_acc + 1 * std_acc, alpha=0.10)\n",
    "plt.legend(('Accuracy ', '+/- 3xstd'))\n",
    "plt.ylabel('Accuracy ')\n",
    "plt.xlabel('Number of Neighbors (K)')\n",
    "#plt.tight_layout()\n",
    "plt.show()"
   ]
  },
  {
   "cell_type": "code",
   "execution_count": 21,
   "metadata": {},
   "outputs": [
    {
     "name": "stdout",
     "output_type": "stream",
     "text": [
      "The best accuracy was with 0.9995837720049947 with k= 1\n"
     ]
    }
   ],
   "source": [
    "print( \"The best accuracy was with\", mean_acc.max(), \"with k=\", mean_acc.argmax()+1)"
   ]
  },
  {
   "cell_type": "markdown",
   "metadata": {},
   "source": [
    "# LINEAR REGRESSION"
   ]
  },
  {
   "cell_type": "code",
   "execution_count": 26,
   "metadata": {},
   "outputs": [],
   "source": [
    "from sklearn import linear_model\n",
    "regr=linear_model.LinearRegression()"
   ]
  },
  {
   "cell_type": "code",
   "execution_count": 27,
   "metadata": {},
   "outputs": [
    {
     "name": "stderr",
     "output_type": "stream",
     "text": [
      "/Applications/anaconda3/lib/python3.7/site-packages/sklearn/linear_model/base.py:503: RuntimeWarning: internal gelsd driver lwork query error, required iwork dimension not returned. This is likely the result of LAPACK bug 0038, fixed in LAPACK 3.2.2 (released July 21, 2010). Falling back to 'gelss' driver.\n",
      "  linalg.lstsq(X, y)\n"
     ]
    },
    {
     "data": {
      "text/plain": [
       "LinearRegression(copy_X=True, fit_intercept=True, n_jobs=None, normalize=False)"
      ]
     },
     "execution_count": 27,
     "metadata": {},
     "output_type": "execute_result"
    }
   ],
   "source": [
    "regr.fit(tr_X,tr_Y)"
   ]
  },
  {
   "cell_type": "code",
   "execution_count": 28,
   "metadata": {},
   "outputs": [
    {
     "data": {
      "text/plain": [
       "array([ 0.00339161, -0.00022773, -0.00450542])"
      ]
     },
     "execution_count": 28,
     "metadata": {},
     "output_type": "execute_result"
    }
   ],
   "source": [
    "regr.coef_"
   ]
  },
  {
   "cell_type": "code",
   "execution_count": 29,
   "metadata": {},
   "outputs": [],
   "source": [
    "y_hat_linear=regr.predict(te_X)"
   ]
  },
  {
   "cell_type": "code",
   "execution_count": 30,
   "metadata": {},
   "outputs": [
    {
     "name": "stdout",
     "output_type": "stream",
     "text": [
      "MSE is: 0.079507248135006\n"
     ]
    }
   ],
   "source": [
    "#Mean Square Error\n",
    "MSE = np.square(np.subtract(y_hat_linear,te_Y)).mean()\n",
    "print(\"MSE is:\",MSE)"
   ]
  },
  {
   "cell_type": "code",
   "execution_count": 31,
   "metadata": {},
   "outputs": [
    {
     "name": "stdout",
     "output_type": "stream",
     "text": [
      "r2 score is: 0.05707000824415742\n",
      "51.10700669296888 %\n"
     ]
    }
   ],
   "source": [
    "#r2 score\n",
    "from sklearn.metrics import r2_score\n",
    "score=r2_score(y_hat_linear,te_Y)\n",
    "print(\"r2 score is:\",score)\n",
    "\n",
    "accuracy = regr.score(tr_X,tr_Y)\n",
    "print(accuracy*100,'%')"
   ]
  },
  {
   "cell_type": "markdown",
   "metadata": {},
   "source": [
    "# POLYNOMIAL REGRESSION"
   ]
  },
  {
   "cell_type": "markdown",
   "metadata": {},
   "source": [
    "# For degree=2"
   ]
  },
  {
   "cell_type": "code",
   "execution_count": 32,
   "metadata": {},
   "outputs": [
    {
     "data": {
      "text/plain": [
       "array([[1.0000e+00, 1.8800e+02, 1.8700e+02, ..., 3.4969e+04, 2.7863e+04,\n",
       "        2.2201e+04],\n",
       "       [1.0000e+00, 1.7800e+02, 1.7100e+02, ..., 2.9241e+04, 2.1888e+04,\n",
       "        1.6384e+04],\n",
       "       [1.0000e+00, 1.8100e+02, 1.7800e+02, ..., 3.1684e+04, 2.3852e+04,\n",
       "        1.7956e+04],\n",
       "       ...,\n",
       "       [1.0000e+00, 2.2300e+02, 1.0900e+02, ..., 1.1881e+04, 1.1118e+04,\n",
       "        1.0404e+04],\n",
       "       [1.0000e+00, 5.3000e+01, 5.3000e+01, ..., 2.8090e+03, 9.0100e+02,\n",
       "        2.8900e+02],\n",
       "       [1.0000e+00, 1.7800e+02, 1.7500e+02, ..., 3.0625e+04, 2.2925e+04,\n",
       "        1.7161e+04]])"
      ]
     },
     "execution_count": 32,
     "metadata": {},
     "output_type": "execute_result"
    }
   ],
   "source": [
    "from sklearn.preprocessing import PolynomialFeatures\n",
    "from sklearn import linear_model\n",
    "poly = PolynomialFeatures(degree=2)\n",
    "train_x_poly = poly.fit_transform(tr_X)\n",
    "train_x_poly"
   ]
  },
  {
   "cell_type": "code",
   "execution_count": 33,
   "metadata": {},
   "outputs": [
    {
     "name": "stdout",
     "output_type": "stream",
     "text": [
      "Coefficients:  [ 0.00000000e+00  3.95167979e-03 -9.14288205e-03 -1.08374026e-03\n",
      "  1.07882935e-06  5.02118789e-06 -1.87790612e-05  5.77741098e-05\n",
      " -3.12233769e-05  6.06566738e-06]\n",
      "Intercept:  2.1078188782177554\n"
     ]
    }
   ],
   "source": [
    "clf = linear_model.LinearRegression()\n",
    "train_y_ = clf.fit(train_x_poly, tr_Y)\n",
    "# The coefficients\n",
    "print ('Coefficients: ', clf.coef_)\n",
    "print ('Intercept: ',clf.intercept_)"
   ]
  },
  {
   "cell_type": "code",
   "execution_count": 34,
   "metadata": {},
   "outputs": [
    {
     "name": "stdout",
     "output_type": "stream",
     "text": [
      "Mean absolute error: 0.14\n",
      "Residual sum of squares (MSE): 0.05\n",
      "R2-score: 0.56\n"
     ]
    }
   ],
   "source": [
    "test_x_poly = poly.fit_transform(te_X)\n",
    "test_y = clf.predict(test_x_poly)\n",
    "\n",
    "print(\"Mean absolute error: %.2f\" % np.mean(np.absolute(test_y - te_Y)))\n",
    "print(\"Residual sum of squares (MSE): %.2f\" % np.mean((test_y - te_Y) ** 2))\n",
    "print(\"R2-score: %.2f\" % r2_score(test_y , te_Y) )"
   ]
  },
  {
   "cell_type": "code",
   "execution_count": 35,
   "metadata": {},
   "outputs": [
    {
     "name": "stdout",
     "output_type": "stream",
     "text": [
      "69.09828164265633 %\n"
     ]
    }
   ],
   "source": [
    "accuracy = clf.score(train_x_poly, tr_Y)\n",
    "print(accuracy*100,'%')"
   ]
  },
  {
   "cell_type": "markdown",
   "metadata": {},
   "source": [
    "# For degree=3"
   ]
  },
  {
   "cell_type": "code",
   "execution_count": 36,
   "metadata": {},
   "outputs": [
    {
     "data": {
      "text/plain": [
       "array([[1.000000e+00, 1.880000e+02, 1.870000e+02, ..., 5.210381e+06,\n",
       "        4.151587e+06, 3.307949e+06],\n",
       "       [1.000000e+00, 1.780000e+02, 1.710000e+02, ..., 3.742848e+06,\n",
       "        2.801664e+06, 2.097152e+06],\n",
       "       [1.000000e+00, 1.810000e+02, 1.780000e+02, ..., 4.245656e+06,\n",
       "        3.196168e+06, 2.406104e+06],\n",
       "       ...,\n",
       "       [1.000000e+00, 2.230000e+02, 1.090000e+02, ..., 1.211862e+06,\n",
       "        1.134036e+06, 1.061208e+06],\n",
       "       [1.000000e+00, 5.300000e+01, 5.300000e+01, ..., 4.775300e+04,\n",
       "        1.531700e+04, 4.913000e+03],\n",
       "       [1.000000e+00, 1.780000e+02, 1.750000e+02, ..., 4.011875e+06,\n",
       "        3.003175e+06, 2.248091e+06]])"
      ]
     },
     "execution_count": 36,
     "metadata": {},
     "output_type": "execute_result"
    }
   ],
   "source": [
    "poly = PolynomialFeatures(degree=3)\n",
    "train_x_poly = poly.fit_transform(tr_X)\n",
    "train_x_poly"
   ]
  },
  {
   "cell_type": "code",
   "execution_count": 37,
   "metadata": {},
   "outputs": [
    {
     "name": "stdout",
     "output_type": "stream",
     "text": [
      "Coefficients:  [ 0.00000000e+00 -7.95881291e-04  1.78169304e-03 -1.79743314e-03\n",
      "  3.96811230e-05 -3.18940303e-05  4.22914819e-05 -2.84169394e-05\n",
      " -5.11300354e-06 -4.69231875e-05 -1.63531856e-07  1.17940211e-07\n",
      "  8.71697295e-08 -3.32075183e-08  5.37737645e-08 -2.85070438e-07\n",
      "  1.17170086e-07  2.32467849e-07 -2.87309955e-07  2.87519321e-07]\n",
      "Intercept:  2.005760530462794\n"
     ]
    }
   ],
   "source": [
    "clf = linear_model.LinearRegression()\n",
    "train_y_ = clf.fit(train_x_poly, tr_Y)\n",
    "# The coefficients\n",
    "print ('Coefficients: ', clf.coef_)\n",
    "print ('Intercept: ',clf.intercept_)"
   ]
  },
  {
   "cell_type": "code",
   "execution_count": 38,
   "metadata": {},
   "outputs": [
    {
     "name": "stdout",
     "output_type": "stream",
     "text": [
      "Mean absolute error: 0.10\n",
      "Residual sum of squares (MSE): 0.03\n",
      "R2-score: 0.75\n"
     ]
    }
   ],
   "source": [
    "test_x_poly = poly.fit_transform(te_X)\n",
    "test_y = clf.predict(test_x_poly)\n",
    "\n",
    "print(\"Mean absolute error: %.2f\" % np.mean(np.absolute(test_y - te_Y)))\n",
    "print(\"Residual sum of squares (MSE): %.2f\" % np.mean((test_y - te_Y) ** 2))\n",
    "print(\"R2-score: %.2f\" % r2_score(test_y , te_Y) )"
   ]
  },
  {
   "cell_type": "code",
   "execution_count": 39,
   "metadata": {},
   "outputs": [
    {
     "name": "stdout",
     "output_type": "stream",
     "text": [
      "79.52991521430339 %\n"
     ]
    }
   ],
   "source": [
    "accuracy = clf.score(train_x_poly, tr_Y)\n",
    "print(accuracy*100,'%')"
   ]
  },
  {
   "cell_type": "markdown",
   "metadata": {},
   "source": [
    "# For degree=5"
   ]
  },
  {
   "cell_type": "code",
   "execution_count": 40,
   "metadata": {},
   "outputs": [
    {
     "data": {
      "text/plain": [
       "array([[1.00000000e+00, 1.88000000e+02, 1.87000000e+02, ...,\n",
       "        1.15675669e+11, 9.21693830e+10, 7.34397757e+10],\n",
       "       [1.00000000e+00, 1.78000000e+02, 1.71000000e+02, ...,\n",
       "        6.13228216e+10, 4.59024630e+10, 3.43597384e+10],\n",
       "       [1.00000000e+00, 1.81000000e+02, 1.78000000e+02, ...,\n",
       "        7.62349991e+10, 5.73903926e+10, 4.32040034e+10],\n",
       "       ...,\n",
       "       [1.00000000e+00, 2.23000000e+02, 1.09000000e+02, ...,\n",
       "        1.26082122e+10, 1.17985105e+10, 1.10408080e+10],\n",
       "       [1.00000000e+00, 5.30000000e+01, 5.30000000e+01, ...,\n",
       "        1.38006170e+07, 4.42661300e+06, 1.41985700e+06],\n",
       "       [1.00000000e+00, 1.78000000e+02, 1.75000000e+02, ...,\n",
       "        6.88477869e+10, 5.15374862e+10, 3.85794897e+10]])"
      ]
     },
     "execution_count": 40,
     "metadata": {},
     "output_type": "execute_result"
    }
   ],
   "source": [
    "poly = PolynomialFeatures(degree=5)\n",
    "train_x_poly = poly.fit_transform(tr_X)\n",
    "train_x_poly"
   ]
  },
  {
   "cell_type": "code",
   "execution_count": 41,
   "metadata": {},
   "outputs": [
    {
     "name": "stdout",
     "output_type": "stream",
     "text": [
      "Coefficients:  [ 0.00000000e+00 -7.74062997e-03  2.34360451e-03  8.40932341e-03\n",
      "  2.58212877e-04 -2.25582653e-04 -2.20179070e-05  1.25721832e-04\n",
      " -1.39803340e-04 -1.79467488e-04 -2.67870378e-06  1.11264944e-07\n",
      "  1.94263979e-06  3.31767836e-06  7.72965445e-07 -1.44280173e-06\n",
      " -2.89796715e-06  7.72334835e-07  1.05918264e-06  1.00159082e-06\n",
      "  1.06876862e-08 -1.17842670e-09 -4.60917225e-09 -3.54061042e-09\n",
      "  9.58514094e-09 -8.67730782e-09 -1.39508902e-08 -2.10864186e-08\n",
      "  1.89731621e-09  1.17300668e-08  1.79523540e-08  1.99500453e-09\n",
      "  5.48838074e-09 -1.47010138e-08 -1.20736842e-10 -1.44480727e-11\n",
      " -3.39662095e-13 -1.14175679e-11  2.31698530e-11 -1.54340157e-11\n",
      "  4.74234145e-11 -1.01072838e-11 -6.37168881e-12 -1.90185981e-11\n",
      " -1.35625762e-11  2.45193493e-11  3.27023240e-11  3.31677450e-11\n",
      " -2.24786826e-12 -2.26300766e-11 -3.41656891e-11 -1.96130932e-11\n",
      "  3.75196926e-11 -6.84432097e-11  5.93358686e-11 -6.32111222e-12]\n",
      "Intercept:  2.0218392534350906\n"
     ]
    }
   ],
   "source": [
    "clf = linear_model.LinearRegression()\n",
    "train_y_ = clf.fit(train_x_poly, tr_Y)\n",
    "# The coefficients\n",
    "print ('Coefficients: ', clf.coef_)\n",
    "print ('Intercept: ',clf.intercept_)"
   ]
  },
  {
   "cell_type": "code",
   "execution_count": 42,
   "metadata": {},
   "outputs": [
    {
     "name": "stdout",
     "output_type": "stream",
     "text": [
      "Mean absolute error: 0.06\n",
      "Residual sum of squares (MSE): 0.01\n",
      "R2-score: 0.90\n"
     ]
    }
   ],
   "source": [
    "test_x_poly = poly.fit_transform(te_X)\n",
    "test_y = clf.predict(test_x_poly)\n",
    "\n",
    "print(\"Mean absolute error: %.2f\" % np.mean(np.absolute(test_y - te_Y)))\n",
    "print(\"Residual sum of squares (MSE): %.2f\" % np.mean((test_y - te_Y) ** 2))\n",
    "print(\"R2-score: %.2f\" % r2_score(test_y , te_Y) )"
   ]
  },
  {
   "cell_type": "code",
   "execution_count": 43,
   "metadata": {},
   "outputs": [
    {
     "name": "stdout",
     "output_type": "stream",
     "text": [
      "90.86709306962132 %\n"
     ]
    }
   ],
   "source": [
    "accuracy = clf.score(train_x_poly, tr_Y)\n",
    "print(accuracy*100,'%')"
   ]
  },
  {
   "cell_type": "markdown",
   "metadata": {},
   "source": [
    "# LOGISTIC REGRESSION"
   ]
  },
  {
   "cell_type": "code",
   "execution_count": 26,
   "metadata": {},
   "outputs": [
    {
     "name": "stdout",
     "output_type": "stream",
     "text": [
      "0.9085155350978136\n",
      "              precision    recall  f1-score   support\n",
      "\n",
      "           1       0.75      0.84      0.79     16953\n",
      "           2       0.96      0.93      0.94     64733\n",
      "\n",
      "    accuracy                           0.91     81686\n",
      "   macro avg       0.85      0.88      0.87     81686\n",
      "weighted avg       0.91      0.91      0.91     81686\n",
      "\n"
     ]
    },
    {
     "name": "stderr",
     "output_type": "stream",
     "text": [
      "/Applications/anaconda3/lib/python3.7/site-packages/sklearn/utils/optimize.py:203: ConvergenceWarning: newton-cg failed to converge. Increase the number of iterations.\n",
      "  \"number of iterations.\", ConvergenceWarning)\n",
      "/Applications/anaconda3/lib/python3.7/site-packages/sklearn/metrics/classification.py:635: DeprecationWarning: jaccard_similarity_score has been deprecated and replaced with jaccard_score. It will be removed in version 0.23. This implementation has surprising behavior for binary and multiclass classification tasks.\n",
      "  'and multiclass classification tasks.', DeprecationWarning)\n"
     ]
    }
   ],
   "source": [
    "# Importing the necessary library\n",
    "from sklearn.linear_model import LogisticRegression\n",
    "from sklearn.metrics import confusion_matrix\n",
    "from sklearn.metrics import classification_report, confusion_matrix\n",
    "import itertools\n",
    "%matplotlib inline\n",
    "import pickle\n",
    "import matplotlib\n",
    "import matplotlib.pyplot as plt\n",
    "import csv\n",
    "import numpy as np\n",
    "import pandas as pd\n",
    "clf = LogisticRegression(solver='newton-cg',penalty='l2',max_iter=3)\n",
    "clf.fit(tr_X,tr_Y)\n",
    "y_out = clf.predict(te_X)\n",
    "#accuracy_score(y_test, y_out)\n",
    "\n",
    "from sklearn.metrics import jaccard_similarity_score\n",
    "print(jaccard_similarity_score(te_Y, y_out))\n",
    "\n",
    "print((classification_report(te_Y,y_out )))\n",
    "#confusion_matrix(y_test, y_out)"
   ]
  },
  {
   "cell_type": "markdown",
   "metadata": {},
   "source": [
    "# Tuning  max_iterations \n",
    "set 100"
   ]
  },
  {
   "cell_type": "code",
   "execution_count": null,
   "metadata": {},
   "outputs": [],
   "source": [
    "# changing max_iter to 100"
   ]
  },
  {
   "cell_type": "code",
   "execution_count": 27,
   "metadata": {},
   "outputs": [
    {
     "name": "stdout",
     "output_type": "stream",
     "text": [
      "0.9193986729672159\n",
      "              precision    recall  f1-score   support\n",
      "\n",
      "           1       0.80      0.82      0.81     16953\n",
      "           2       0.95      0.95      0.95     64733\n",
      "\n",
      "    accuracy                           0.92     81686\n",
      "   macro avg       0.88      0.88      0.88     81686\n",
      "weighted avg       0.92      0.92      0.92     81686\n",
      "\n"
     ]
    },
    {
     "name": "stderr",
     "output_type": "stream",
     "text": [
      "/Applications/anaconda3/lib/python3.7/site-packages/sklearn/metrics/classification.py:635: DeprecationWarning: jaccard_similarity_score has been deprecated and replaced with jaccard_score. It will be removed in version 0.23. This implementation has surprising behavior for binary and multiclass classification tasks.\n",
      "  'and multiclass classification tasks.', DeprecationWarning)\n"
     ]
    }
   ],
   "source": [
    "# Importing the necessary library\n",
    "from sklearn.linear_model import LogisticRegression\n",
    "from sklearn.metrics import confusion_matrix\n",
    "from sklearn.metrics import classification_report, confusion_matrix\n",
    "import itertools\n",
    "%matplotlib inline\n",
    "import pickle\n",
    "import matplotlib\n",
    "import matplotlib.pyplot as plt\n",
    "import csv\n",
    "import numpy as np\n",
    "import pandas as pd\n",
    "clf = LogisticRegression(solver='newton-cg',penalty='l2',max_iter=100)\n",
    "clf.fit(tr_X,tr_Y)\n",
    "y_out = clf.predict(te_X)\n",
    "#accuracy_score(y_test, y_out)\n",
    "\n",
    "from sklearn.metrics import jaccard_similarity_score\n",
    "print(jaccard_similarity_score(te_Y, y_out))\n",
    "\n",
    "print((classification_report(te_Y,y_out )))\n",
    "#confusion_matrix(y_test, y_out)"
   ]
  },
  {
   "cell_type": "code",
   "execution_count": 52,
   "metadata": {},
   "outputs": [],
   "source": [
    "# changing max_iter to 1000"
   ]
  },
  {
   "cell_type": "code",
   "execution_count": 28,
   "metadata": {},
   "outputs": [
    {
     "name": "stdout",
     "output_type": "stream",
     "text": [
      "0.9193986729672159\n",
      "              precision    recall  f1-score   support\n",
      "\n",
      "           1       0.80      0.82      0.81     16953\n",
      "           2       0.95      0.95      0.95     64733\n",
      "\n",
      "    accuracy                           0.92     81686\n",
      "   macro avg       0.88      0.88      0.88     81686\n",
      "weighted avg       0.92      0.92      0.92     81686\n",
      "\n"
     ]
    },
    {
     "name": "stderr",
     "output_type": "stream",
     "text": [
      "/Applications/anaconda3/lib/python3.7/site-packages/sklearn/metrics/classification.py:635: DeprecationWarning: jaccard_similarity_score has been deprecated and replaced with jaccard_score. It will be removed in version 0.23. This implementation has surprising behavior for binary and multiclass classification tasks.\n",
      "  'and multiclass classification tasks.', DeprecationWarning)\n"
     ]
    }
   ],
   "source": [
    "# Importing the necessary library\n",
    "from sklearn.linear_model import LogisticRegression\n",
    "from sklearn.metrics import confusion_matrix\n",
    "from sklearn.metrics import classification_report, confusion_matrix\n",
    "import itertools\n",
    "%matplotlib inline\n",
    "import pickle\n",
    "import matplotlib\n",
    "import matplotlib.pyplot as plt\n",
    "import csv\n",
    "import numpy as np\n",
    "import pandas as pd\n",
    "clf = LogisticRegression(solver='newton-cg',penalty='l2',max_iter=1000)\n",
    "clf.fit(tr_X,tr_Y)\n",
    "y_out = clf.predict(te_X)\n",
    "#accuracy_score(y_test, y_out)\n",
    "\n",
    "from sklearn.metrics import jaccard_similarity_score\n",
    "print(jaccard_similarity_score(te_Y, y_out))\n",
    "\n",
    "print((classification_report(te_Y,y_out )))\n",
    "#confusion_matrix(y_test, y_out)"
   ]
  },
  {
   "cell_type": "code",
   "execution_count": null,
   "metadata": {},
   "outputs": [],
   "source": [
    "# changing penalty to l1"
   ]
  },
  {
   "cell_type": "code",
   "execution_count": 32,
   "metadata": {},
   "outputs": [
    {
     "name": "stdout",
     "output_type": "stream",
     "text": [
      "0.9193986729672159\n",
      "              precision    recall  f1-score   support\n",
      "\n",
      "           1       0.80      0.82      0.81     16953\n",
      "           2       0.95      0.95      0.95     64733\n",
      "\n",
      "    accuracy                           0.92     81686\n",
      "   macro avg       0.88      0.88      0.88     81686\n",
      "weighted avg       0.92      0.92      0.92     81686\n",
      "\n"
     ]
    },
    {
     "name": "stderr",
     "output_type": "stream",
     "text": [
      "/Applications/anaconda3/lib/python3.7/site-packages/sklearn/metrics/classification.py:635: DeprecationWarning: jaccard_similarity_score has been deprecated and replaced with jaccard_score. It will be removed in version 0.23. This implementation has surprising behavior for binary and multiclass classification tasks.\n",
      "  'and multiclass classification tasks.', DeprecationWarning)\n"
     ]
    }
   ],
   "source": [
    "# Importing the necessary library\n",
    "from sklearn.linear_model import LogisticRegression\n",
    "from sklearn.metrics import confusion_matrix\n",
    "from sklearn.metrics import classification_report, confusion_matrix\n",
    "import itertools\n",
    "%matplotlib inline\n",
    "import pickle\n",
    "import matplotlib\n",
    "import matplotlib.pyplot as plt\n",
    "import csv\n",
    "import numpy as np\n",
    "import pandas as pd\n",
    "clf = LogisticRegression(solver='lbfgs',penalty='none',max_iter=1000)\n",
    "clf.fit(tr_X,tr_Y)\n",
    "y_out = clf.predict(te_X)\n",
    "#accuracy_score(y_test, y_out)\n",
    "\n",
    "from sklearn.metrics import jaccard_similarity_score\n",
    "print(jaccard_similarity_score(te_Y, y_out))\n",
    "\n",
    "print((classification_report(te_Y,y_out )))\n",
    "#confusion_matrix(y_test, y_out)"
   ]
  },
  {
   "cell_type": "markdown",
   "metadata": {},
   "source": [
    "# Random Forest Classifier"
   ]
  },
  {
   "cell_type": "code",
   "execution_count": 54,
   "metadata": {},
   "outputs": [],
   "source": [
    "#from read_data import *\n",
    "from sklearn.ensemble import RandomForestClassifier\n",
    "from sklearn.datasets import make_classification\n",
    "from sklearn.model_selection import train_test_split\n",
    "from sklearn.mixture import GaussianMixture"
   ]
  },
  {
   "cell_type": "code",
   "execution_count": 56,
   "metadata": {},
   "outputs": [
    {
     "name": "stdout",
     "output_type": "stream",
     "text": [
      "Accuracy: 0.9995103240022851\n"
     ]
    }
   ],
   "source": [
    "clf=RandomForestClassifier(n_estimators=100)\n",
    "\n",
    "clf.fit(tr_X,tr_Y)\n",
    "\n",
    "y_pred=clf.predict(te_X)\n",
    "\n",
    "from sklearn import metrics\n",
    "# Model Accuracy, how often is the classifier correct?\n",
    "print(\"Accuracy:\",metrics.accuracy_score(te_Y, y_pred))"
   ]
  },
  {
   "cell_type": "markdown",
   "metadata": {},
   "source": [
    "# Tuning Random Forest Parameters"
   ]
  },
  {
   "cell_type": "markdown",
   "metadata": {},
   "source": [
    "# n_estimators =1000"
   ]
  },
  {
   "cell_type": "code",
   "execution_count": 57,
   "metadata": {},
   "outputs": [
    {
     "name": "stdout",
     "output_type": "stream",
     "text": [
      "Accuracy: 0.9994287113359993\n"
     ]
    }
   ],
   "source": [
    "clf=RandomForestClassifier(n_estimators=1000)\n",
    "\n",
    "clf.fit(tr_X,tr_Y)\n",
    "\n",
    "y_pred=clf.predict(te_X)\n",
    "\n",
    "from sklearn import metrics\n",
    "# Model Accuracy, how often is the classifier correct?\n",
    "print(\"Accuracy:\",metrics.accuracy_score(te_Y, y_pred))"
   ]
  },
  {
   "cell_type": "markdown",
   "metadata": {},
   "source": [
    "# n_estimators= 500"
   ]
  },
  {
   "cell_type": "code",
   "execution_count": 58,
   "metadata": {},
   "outputs": [
    {
     "name": "stdout",
     "output_type": "stream",
     "text": [
      "Accuracy: 0.9994695176691423\n"
     ]
    }
   ],
   "source": [
    "clf=RandomForestClassifier(n_estimators=500)\n",
    "\n",
    "clf.fit(tr_X,tr_Y)\n",
    "\n",
    "y_pred=clf.predict(te_X)\n",
    "\n",
    "from sklearn import metrics\n",
    "# Model Accuracy, how often is the classifier correct?\n",
    "print(\"Accuracy:\",metrics.accuracy_score(te_Y, y_pred))"
   ]
  },
  {
   "cell_type": "markdown",
   "metadata": {},
   "source": [
    "# max_depth"
   ]
  },
  {
   "cell_type": "code",
   "execution_count": 59,
   "metadata": {},
   "outputs": [
    {
     "name": "stdout",
     "output_type": "stream",
     "text": [
      "Accuracy: 0.9993879050028565\n"
     ]
    }
   ],
   "source": [
    "clf=RandomForestClassifier(n_estimators=500, max_depth=50)\n",
    "\n",
    "clf.fit(tr_X,tr_Y)\n",
    "\n",
    "y_pred=clf.predict(te_X)\n",
    "\n",
    "from sklearn import metrics\n",
    "# Model Accuracy, how often is the classifier correct?\n",
    "print(\"Accuracy:\",metrics.accuracy_score(te_Y, y_pred))"
   ]
  },
  {
   "cell_type": "markdown",
   "metadata": {},
   "source": [
    "# max_depth=10"
   ]
  },
  {
   "cell_type": "code",
   "execution_count": 60,
   "metadata": {},
   "outputs": [
    {
     "name": "stdout",
     "output_type": "stream",
     "text": [
      "Accuracy: 0.9984085530074267\n"
     ]
    }
   ],
   "source": [
    "clf=RandomForestClassifier(n_estimators=500, max_depth=10)\n",
    "\n",
    "clf.fit(tr_X,tr_Y)\n",
    "\n",
    "y_pred=clf.predict(te_X)\n",
    "\n",
    "from sklearn import metrics\n",
    "# Model Accuracy, how often is the classifier correct?\n",
    "print(\"Accuracy:\",metrics.accuracy_score(te_Y, y_pred))"
   ]
  },
  {
   "cell_type": "markdown",
   "metadata": {},
   "source": [
    "# min_samples_split = 2, min_samples_leaf = 1"
   ]
  },
  {
   "cell_type": "code",
   "execution_count": 62,
   "metadata": {},
   "outputs": [
    {
     "name": "stdout",
     "output_type": "stream",
     "text": [
      "Accuracy: 0.9984901656737125\n"
     ]
    }
   ],
   "source": [
    "clf=RandomForestClassifier(n_estimators=500, max_depth=10,\n",
    "                          min_samples_split = 2, min_samples_leaf = 1)\n",
    "\n",
    "clf.fit(tr_X,tr_Y)\n",
    "\n",
    "y_pred=clf.predict(te_X)\n",
    "\n",
    "from sklearn import metrics\n",
    "# Model Accuracy, how often is the classifier correct?\n",
    "print(\"Accuracy:\",metrics.accuracy_score(te_Y, y_pred))"
   ]
  },
  {
   "cell_type": "markdown",
   "metadata": {},
   "source": [
    "# LDA  Linear Discriminant Analysis"
   ]
  },
  {
   "cell_type": "code",
   "execution_count": 64,
   "metadata": {},
   "outputs": [
    {
     "name": "stdout",
     "output_type": "stream",
     "text": [
      "              precision    recall  f1-score   support\n",
      "\n",
      "           1     0.7990    0.9072    0.8496      5086\n",
      "           2     0.9748    0.9402    0.9572     19420\n",
      "\n",
      "    accuracy                         0.9334     24506\n",
      "   macro avg     0.8869    0.9237    0.9034     24506\n",
      "weighted avg     0.9383    0.9334    0.9349     24506\n",
      "\n",
      "Accuracy: 0.9333632579776381\n"
     ]
    }
   ],
   "source": [
    "import numpy as np\n",
    "from sklearn.discriminant_analysis import LinearDiscriminantAnalysis\n",
    "LDA= LinearDiscriminantAnalysis(solver = 'svd')\n",
    "y_out = LDA.fit(tr_X,tr_Y).predict(te_X)\n",
    "#confusion_matrix(y_test, y_out)\n",
    "print(classification_report(te_Y, y_out, digits=4))\n",
    "print(\"Accuracy:\",metrics.accuracy_score(te_Y, y_out))\n",
    "#target_names=['Not Six', 'Six']"
   ]
  },
  {
   "cell_type": "code",
   "execution_count": null,
   "metadata": {},
   "outputs": [],
   "source": [
    "# Tuning LDA"
   ]
  },
  {
   "cell_type": "code",
   "execution_count": null,
   "metadata": {},
   "outputs": [],
   "source": [
    "# changing solver to eigen"
   ]
  },
  {
   "cell_type": "code",
   "execution_count": 65,
   "metadata": {},
   "outputs": [
    {
     "name": "stdout",
     "output_type": "stream",
     "text": [
      "              precision    recall  f1-score   support\n",
      "\n",
      "           1     0.7990    0.9072    0.8496      5086\n",
      "           2     0.9748    0.9402    0.9572     19420\n",
      "\n",
      "    accuracy                         0.9334     24506\n",
      "   macro avg     0.8869    0.9237    0.9034     24506\n",
      "weighted avg     0.9383    0.9334    0.9349     24506\n",
      "\n",
      "Accuracy: 0.9333632579776381\n"
     ]
    }
   ],
   "source": [
    "import numpy as np\n",
    "from sklearn.discriminant_analysis import LinearDiscriminantAnalysis\n",
    "LDA= LinearDiscriminantAnalysis(solver = 'eigen')\n",
    "y_out = LDA.fit(tr_X,tr_Y).predict(te_X)\n",
    "#confusion_matrix(y_test, y_out)\n",
    "print(classification_report(te_Y, y_out, digits=4))\n",
    "print(\"Accuracy:\",metrics.accuracy_score(te_Y, y_out))\n",
    "#target_names=['Not Six', 'Six']"
   ]
  },
  {
   "cell_type": "code",
   "execution_count": null,
   "metadata": {},
   "outputs": [],
   "source": [
    " # shrinkage =1 "
   ]
  },
  {
   "cell_type": "code",
   "execution_count": 66,
   "metadata": {},
   "outputs": [
    {
     "name": "stdout",
     "output_type": "stream",
     "text": [
      "              precision    recall  f1-score   support\n",
      "\n",
      "           1     0.7465    0.6022    0.6667      5086\n",
      "           2     0.9008    0.9464    0.9231     19420\n",
      "\n",
      "    accuracy                         0.8750     24506\n",
      "   macro avg     0.8237    0.7743    0.7949     24506\n",
      "weighted avg     0.8688    0.8750    0.8699     24506\n",
      "\n",
      "Accuracy: 0.8750102015832857\n"
     ]
    }
   ],
   "source": [
    "import numpy as np\n",
    "from sklearn.discriminant_analysis import LinearDiscriminantAnalysis\n",
    "LDA= LinearDiscriminantAnalysis(solver = 'eigen', shrinkage=1)\n",
    "y_out = LDA.fit(tr_X,tr_Y).predict(te_X)\n",
    "#confusion_matrix(y_test, y_out)\n",
    "print(classification_report(te_Y, y_out, digits=4))\n",
    "print(\"Accuracy:\",metrics.accuracy_score(te_Y, y_out))\n",
    "#target_names=['Not Six', 'Six']"
   ]
  },
  {
   "cell_type": "code",
   "execution_count": null,
   "metadata": {},
   "outputs": [],
   "source": [
    "# shrinkage =0"
   ]
  },
  {
   "cell_type": "code",
   "execution_count": 67,
   "metadata": {},
   "outputs": [
    {
     "name": "stdout",
     "output_type": "stream",
     "text": [
      "              precision    recall  f1-score   support\n",
      "\n",
      "           1     0.7990    0.9072    0.8496      5086\n",
      "           2     0.9748    0.9402    0.9572     19420\n",
      "\n",
      "    accuracy                         0.9334     24506\n",
      "   macro avg     0.8869    0.9237    0.9034     24506\n",
      "weighted avg     0.9383    0.9334    0.9349     24506\n",
      "\n",
      "Accuracy: 0.9333632579776381\n"
     ]
    }
   ],
   "source": [
    "import numpy as np\n",
    "from sklearn.discriminant_analysis import LinearDiscriminantAnalysis\n",
    "LDA= LinearDiscriminantAnalysis(solver = 'eigen', shrinkage=0)\n",
    "y_out = LDA.fit(tr_X,tr_Y).predict(te_X)\n",
    "#confusion_matrix(y_test, y_out)\n",
    "print(classification_report(te_Y, y_out, digits=4))\n",
    "print(\"Accuracy:\",metrics.accuracy_score(te_Y, y_out))\n",
    "#target_names=['Not Six', 'Six']"
   ]
  },
  {
   "cell_type": "code",
   "execution_count": null,
   "metadata": {},
   "outputs": [],
   "source": [
    "# Final LDA"
   ]
  },
  {
   "cell_type": "code",
   "execution_count": 69,
   "metadata": {},
   "outputs": [
    {
     "name": "stdout",
     "output_type": "stream",
     "text": [
      "              precision    recall  f1-score   support\n",
      "\n",
      "           1     0.7990    0.9072    0.8496      5086\n",
      "           2     0.9748    0.9402    0.9572     19420\n",
      "\n",
      "    accuracy                         0.9334     24506\n",
      "   macro avg     0.8869    0.9237    0.9034     24506\n",
      "weighted avg     0.9383    0.9334    0.9349     24506\n",
      "\n",
      "Accuracy: 0.9333632579776381\n"
     ]
    }
   ],
   "source": [
    "import numpy as np\n",
    "from sklearn.discriminant_analysis import LinearDiscriminantAnalysis\n",
    "LDA= LinearDiscriminantAnalysis(solver = 'eigen', shrinkage=0)\n",
    "y_out = LDA.fit(tr_X,tr_Y).predict(te_X)\n",
    "#confusion_matrix(y_test, y_out)\n",
    "print(classification_report(te_Y, y_out, digits=4))\n",
    "print(\"Accuracy:\",metrics.accuracy_score(te_Y, y_out))\n",
    "#target_names=['Not Six', 'Six']"
   ]
  },
  {
   "cell_type": "markdown",
   "metadata": {},
   "source": [
    "# Quadratic Discriminant Analysis"
   ]
  },
  {
   "cell_type": "code",
   "execution_count": 71,
   "metadata": {},
   "outputs": [
    {
     "name": "stdout",
     "output_type": "stream",
     "text": [
      "              precision    recall  f1-score   support\n",
      "\n",
      "           1     0.9954    0.9306    0.9619      5086\n",
      "           2     0.9821    0.9989    0.9904     19420\n",
      "\n",
      "    accuracy                         0.9847     24506\n",
      "   macro avg     0.9888    0.9647    0.9762     24506\n",
      "weighted avg     0.9849    0.9847    0.9845     24506\n",
      "\n",
      "Accuracy: 0.9846976250714111\n"
     ]
    }
   ],
   "source": [
    "import numpy as np\n",
    "from sklearn.discriminant_analysis import QuadraticDiscriminantAnalysis\n",
    "qda_clf = QuadraticDiscriminantAnalysis()\n",
    "#qda_clf.fit(x_train,y_train)\n",
    "y_out = qda_clf.fit(tr_X,tr_Y).predict(te_X)\n",
    "print(classification_report(te_Y, y_out, digits=4))\n",
    "#target_names=['Not Six', 'Six']\n",
    "\n",
    "\n",
    "# The data will be gaussian\n",
    "\n",
    "print(\"Accuracy:\",metrics.accuracy_score(te_Y, y_out))\n",
    "#target_names=['Not Six', 'Six']"
   ]
  },
  {
   "cell_type": "code",
   "execution_count": null,
   "metadata": {},
   "outputs": [],
   "source": []
  },
  {
   "cell_type": "markdown",
   "metadata": {},
   "source": [
    "# SUPPORT VECTOR MACHINES"
   ]
  },
  {
   "cell_type": "code",
   "execution_count": 72,
   "metadata": {},
   "outputs": [
    {
     "data": {
      "text/plain": [
       "array([2, 1, 1, ..., 2, 2, 1], dtype=int32)"
      ]
     },
     "execution_count": 72,
     "metadata": {},
     "output_type": "execute_result"
    }
   ],
   "source": [
    "X_train=np.asarray(tr_X)\n",
    "X_test= np.asarray(te_X)\n",
    "y_train= np.asarray(tr_Y)\n",
    "y_test=np.asarray(te_Y)\n",
    "y_test"
   ]
  },
  {
   "cell_type": "code",
   "execution_count": 73,
   "metadata": {},
   "outputs": [
    {
     "data": {
      "text/plain": [
       "SVC(C=1.0, cache_size=200, class_weight=None, coef0=0.0,\n",
       "    decision_function_shape='ovr', degree=3, gamma='auto_deprecated',\n",
       "    kernel='rbf', max_iter=-1, probability=False, random_state=None,\n",
       "    shrinking=True, tol=0.001, verbose=False)"
      ]
     },
     "execution_count": 73,
     "metadata": {},
     "output_type": "execute_result"
    }
   ],
   "source": [
    "from sklearn import svm\n",
    "clf = svm.SVC(kernel='rbf')\n",
    "clf.fit(X_train, y_train) "
   ]
  },
  {
   "cell_type": "code",
   "execution_count": 74,
   "metadata": {},
   "outputs": [
    {
     "data": {
      "text/plain": [
       "array([2, 1, 1, 2, 2], dtype=int32)"
      ]
     },
     "execution_count": 74,
     "metadata": {},
     "output_type": "execute_result"
    }
   ],
   "source": [
    "yhat_SVM = clf.predict(X_test)\n",
    "yhat_SVM [0:5]"
   ]
  },
  {
   "cell_type": "code",
   "execution_count": 75,
   "metadata": {},
   "outputs": [
    {
     "data": {
      "text/plain": [
       "0.9985735829506777"
      ]
     },
     "execution_count": 75,
     "metadata": {},
     "output_type": "execute_result"
    }
   ],
   "source": [
    "from sklearn.metrics import f1_score\n",
    "f1_score(y_test, yhat_SVM, average='weighted')"
   ]
  },
  {
   "cell_type": "code",
   "execution_count": 76,
   "metadata": {},
   "outputs": [
    {
     "name": "stderr",
     "output_type": "stream",
     "text": [
      "/Applications/anaconda3/lib/python3.7/site-packages/sklearn/metrics/classification.py:635: DeprecationWarning: jaccard_similarity_score has been deprecated and replaced with jaccard_score. It will be removed in version 0.23. This implementation has surprising behavior for binary and multiclass classification tasks.\n",
      "  'and multiclass classification tasks.', DeprecationWarning)\n"
     ]
    },
    {
     "data": {
      "text/plain": [
       "0.9985717783399983"
      ]
     },
     "execution_count": 76,
     "metadata": {},
     "output_type": "execute_result"
    }
   ],
   "source": [
    "from sklearn.metrics import jaccard_similarity_score\n",
    "jaccard_similarity_score(y_test, yhat_SVM)"
   ]
  },
  {
   "cell_type": "markdown",
   "metadata": {},
   "source": [
    "# Tuning Kernel Type\n",
    "https://towardsdatascience.com/a-guide-to-svm-parameter-tuning-8bfe6b8a452c"
   ]
  },
  {
   "cell_type": "markdown",
   "metadata": {},
   "source": [
    "# Kernel = Linear"
   ]
  },
  {
   "cell_type": "code",
   "execution_count": 77,
   "metadata": {},
   "outputs": [
    {
     "name": "stderr",
     "output_type": "stream",
     "text": [
      "/Applications/anaconda3/lib/python3.7/site-packages/sklearn/metrics/classification.py:635: DeprecationWarning: jaccard_similarity_score has been deprecated and replaced with jaccard_score. It will be removed in version 0.23. This implementation has surprising behavior for binary and multiclass classification tasks.\n",
      "  'and multiclass classification tasks.', DeprecationWarning)\n"
     ]
    },
    {
     "data": {
      "text/plain": [
       "0.9310781033216355"
      ]
     },
     "execution_count": 77,
     "metadata": {},
     "output_type": "execute_result"
    }
   ],
   "source": [
    "from sklearn import svm\n",
    "clf = svm.SVC(kernel='linear')\n",
    "clf.fit(X_train, y_train) \n",
    "\n",
    "yhat_SVM = clf.predict(X_test)\n",
    "yhat_SVM [0:5]\n",
    "\n",
    "from sklearn.metrics import f1_score\n",
    "f1_score(y_test, yhat_SVM, average='weighted')\n",
    "\n",
    "from sklearn.metrics import jaccard_similarity_score\n",
    "jaccard_similarity_score(y_test, yhat_SVM)\n",
    "\n"
   ]
  },
  {
   "cell_type": "markdown",
   "metadata": {},
   "source": [
    "# Kernel = Polynomial"
   ]
  },
  {
   "cell_type": "code",
   "execution_count": 78,
   "metadata": {},
   "outputs": [
    {
     "name": "stderr",
     "output_type": "stream",
     "text": [
      "/Applications/anaconda3/lib/python3.7/site-packages/sklearn/metrics/classification.py:635: DeprecationWarning: jaccard_similarity_score has been deprecated and replaced with jaccard_score. It will be removed in version 0.23. This implementation has surprising behavior for binary and multiclass classification tasks.\n",
      "  'and multiclass classification tasks.', DeprecationWarning)\n"
     ]
    },
    {
     "data": {
      "text/plain": [
       "0.9512772382273729"
      ]
     },
     "execution_count": 78,
     "metadata": {},
     "output_type": "execute_result"
    }
   ],
   "source": [
    "from sklearn import svm\n",
    "clf = svm.SVC(kernel='poly')\n",
    "clf.fit(X_train, y_train) \n",
    "\n",
    "yhat_SVM = clf.predict(X_test)\n",
    "yhat_SVM [0:5]\n",
    "\n",
    "from sklearn.metrics import f1_score\n",
    "f1_score(y_test, yhat_SVM, average='weighted')\n",
    "\n",
    "from sklearn.metrics import jaccard_similarity_score\n",
    "jaccard_similarity_score(y_test, yhat_SVM)\n",
    "\n"
   ]
  },
  {
   "cell_type": "markdown",
   "metadata": {},
   "source": [
    "# Kernel = Sigmoid"
   ]
  },
  {
   "cell_type": "code",
   "execution_count": 79,
   "metadata": {},
   "outputs": [
    {
     "name": "stderr",
     "output_type": "stream",
     "text": [
      "/Applications/anaconda3/lib/python3.7/site-packages/sklearn/metrics/classification.py:635: DeprecationWarning: jaccard_similarity_score has been deprecated and replaced with jaccard_score. It will be removed in version 0.23. This implementation has surprising behavior for binary and multiclass classification tasks.\n",
      "  'and multiclass classification tasks.', DeprecationWarning)\n"
     ]
    },
    {
     "data": {
      "text/plain": [
       "0.827389210805517"
      ]
     },
     "execution_count": 79,
     "metadata": {},
     "output_type": "execute_result"
    }
   ],
   "source": [
    "from sklearn import svm\n",
    "clf = svm.SVC(kernel='sigmoid')\n",
    "clf.fit(X_train, y_train) \n",
    "\n",
    "yhat_SVM = clf.predict(X_test)\n",
    "yhat_SVM [0:5]\n",
    "\n",
    "from sklearn.metrics import f1_score\n",
    "f1_score(y_test, yhat_SVM, average='weighted')\n",
    "\n",
    "from sklearn.metrics import jaccard_similarity_score\n",
    "jaccard_similarity_score(y_test, yhat_SVM)\n",
    "\n"
   ]
  },
  {
   "cell_type": "markdown",
   "metadata": {},
   "source": [
    "# Tuning Penalty Parameter C\n",
    "and preserving Polynomial kernel\n",
    "\n",
    "Try : 10,\n",
    "\n",
    "100,\n",
    "\n",
    "1000,\n",
    "\n",
    "10000"
   ]
  },
  {
   "cell_type": "markdown",
   "metadata": {},
   "source": [
    "# C=10"
   ]
  },
  {
   "cell_type": "code",
   "execution_count": 80,
   "metadata": {},
   "outputs": [
    {
     "name": "stderr",
     "output_type": "stream",
     "text": [
      "/Applications/anaconda3/lib/python3.7/site-packages/sklearn/metrics/classification.py:635: DeprecationWarning: jaccard_similarity_score has been deprecated and replaced with jaccard_score. It will be removed in version 0.23. This implementation has surprising behavior for binary and multiclass classification tasks.\n",
      "  'and multiclass classification tasks.', DeprecationWarning)\n"
     ]
    },
    {
     "data": {
      "text/plain": [
       "0.9513180445605158"
      ]
     },
     "execution_count": 80,
     "metadata": {},
     "output_type": "execute_result"
    }
   ],
   "source": [
    "from sklearn import svm\n",
    "clf = svm.SVC(kernel='poly',C=10)\n",
    "clf.fit(X_train, y_train) \n",
    "\n",
    "yhat_SVM = clf.predict(X_test)\n",
    "yhat_SVM [0:5]\n",
    "\n",
    "from sklearn.metrics import f1_score\n",
    "f1_score(y_test, yhat_SVM, average='weighted')\n",
    "\n",
    "from sklearn.metrics import jaccard_similarity_score\n",
    "jaccard_similarity_score(y_test, yhat_SVM)\n",
    "\n"
   ]
  },
  {
   "cell_type": "code",
   "execution_count": null,
   "metadata": {},
   "outputs": [],
   "source": [
    "# C=0.1"
   ]
  },
  {
   "cell_type": "code",
   "execution_count": null,
   "metadata": {},
   "outputs": [],
   "source": [
    "from sklearn import svm\n",
    "clf = svm.SVC(kernel='poly',C=0.1)\n",
    "clf.fit(X_train, y_train) \n",
    "\n",
    "yhat_SVM = clf.predict(X_test)\n",
    "yhat_SVM [0:5]\n",
    "\n",
    "from sklearn.metrics import f1_score\n",
    "f1_score(y_test, yhat_SVM, average='weighted')\n",
    "\n",
    "from sklearn.metrics import jaccard_similarity_score\n",
    "jaccard_similarity_score(y_test, yhat_SVM)\n",
    "\n"
   ]
  },
  {
   "cell_type": "markdown",
   "metadata": {},
   "source": [
    "# Tuning Gamma\n",
    "gamma=100"
   ]
  },
  {
   "cell_type": "code",
   "execution_count": null,
   "metadata": {},
   "outputs": [],
   "source": [
    "from sklearn import svm\n",
    "clf = svm.SVC(kernel='poly',C=10,gamma=100)\n",
    "clf.fit(X_train, y_train) \n",
    "\n",
    "yhat_SVM = clf.predict(X_test)\n",
    "yhat_SVM [0:5]\n",
    "\n",
    "from sklearn.metrics import f1_score\n",
    "f1_score(y_test, yhat_SVM, average='weighted')\n",
    "\n",
    "from sklearn.metrics import jaccard_similarity_score\n",
    "jaccard_similarity_score(y_test, yhat_SVM)\n",
    "\n"
   ]
  },
  {
   "cell_type": "code",
   "execution_count": null,
   "metadata": {},
   "outputs": [],
   "source": [
    "# gamma =10 "
   ]
  },
  {
   "cell_type": "code",
   "execution_count": null,
   "metadata": {},
   "outputs": [],
   "source": [
    "from sklearn import svm\n",
    "clf = svm.SVC(kernel='poly',C=10,gamma=10)\n",
    "clf.fit(X_train, y_train) \n",
    "\n",
    "yhat_SVM = clf.predict(X_test)\n",
    "yhat_SVM [0:5]\n",
    "\n",
    "from sklearn.metrics import f1_score\n",
    "f1_score(y_test, yhat_SVM, average='weighted')\n",
    "\n",
    "from sklearn.metrics import jaccard_similarity_score\n",
    "jaccard_similarity_score(y_test, yhat_SVM)\n",
    "\n"
   ]
  },
  {
   "cell_type": "code",
   "execution_count": null,
   "metadata": {},
   "outputs": [],
   "source": []
  }
 ],
 "metadata": {
  "kernelspec": {
   "display_name": "Python 3",
   "language": "python",
   "name": "python3"
  },
  "language_info": {
   "codemirror_mode": {
    "name": "ipython",
    "version": 3
   },
   "file_extension": ".py",
   "mimetype": "text/x-python",
   "name": "python",
   "nbconvert_exporter": "python",
   "pygments_lexer": "ipython3",
   "version": "3.7.4"
  }
 },
 "nbformat": 4,
 "nbformat_minor": 2
}
